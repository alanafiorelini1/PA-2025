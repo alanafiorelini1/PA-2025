{
  "nbformat": 4,
  "nbformat_minor": 0,
  "metadata": {
    "colab": {
      "provenance": [],
      "include_colab_link": true
    },
    "kernelspec": {
      "name": "python3",
      "display_name": "Python 3"
    },
    "language_info": {
      "name": "python"
    }
  },
  "cells": [
    {
      "cell_type": "markdown",
      "metadata": {
        "id": "view-in-github",
        "colab_type": "text"
      },
      "source": [
        "<a href=\"https://colab.research.google.com/github/alanafiorelini1/PA-2025/blob/main/C%C3%B3pia_de_Exercicios_juntos_La%C3%A7os%2C_condicionais%2C_listas%2C_tuplas_e_dicion%C3%A1rios_29_08.ipynb\" target=\"_parent\"><img src=\"https://colab.research.google.com/assets/colab-badge.svg\" alt=\"Open In Colab\"/></a>"
      ]
    },
    {
      "cell_type": "markdown",
      "source": [
        "Lista de Exercícios unindo tudo que foi ensinado até o momento:\n",
        "\n",
        "\n",
        "*   Condicionais\n",
        "*   Laços de Reptição\n",
        "*   Listas\n",
        "*   Tuplas\n",
        "*   Dicionários\n",
        "*   Manipulação de Strings\n",
        "\n",
        "\n",
        "\n",
        "\n",
        "\n"
      ],
      "metadata": {
        "id": "JsFcwNObBRcd"
      }
    },
    {
      "cell_type": "markdown",
      "source": [
        "# Tuplas - Acesso e Desempacotamento\n",
        "\n",
        "1) Crie uma tupla contendo três tipos diferentes de dados: um número, uma string e uma lista. Use um laço de repetição para acessar e imprimir cada item da tupla. Além disso, dentro do laço, acesse e imprima o segundo item da lista que está dentro da tupla."
      ],
      "metadata": {
        "id": "HM91bKpkBqGI"
      }
    },
    {
      "cell_type": "code",
      "source": [
        "dados = (24, \"Cíntia\",[1,2,3])\n",
        "\n",
        "for i in dados:\n",
        "  print(i)"
      ],
      "metadata": {
        "colab": {
          "base_uri": "https://localhost:8080/"
        },
        "id": "sCbCOqPVYeRv",
        "outputId": "1562f547-2765-4a1e-dc63-72c47c44eca5"
      },
      "execution_count": null,
      "outputs": [
        {
          "output_type": "stream",
          "name": "stdout",
          "text": [
            "24\n",
            "Cíntia\n",
            "[1, 2, 3]\n"
          ]
        }
      ]
    },
    {
      "cell_type": "code",
      "source": [],
      "metadata": {
        "colab": {
          "base_uri": "https://localhost:8080/"
        },
        "id": "pZ8TJ7EFYsjg",
        "outputId": "421ac61c-a610-4c30-e322-382b944de8df"
      },
      "execution_count": null,
      "outputs": [
        {
          "output_type": "execute_result",
          "data": {
            "text/plain": [
              "tuple"
            ]
          },
          "metadata": {},
          "execution_count": 2
        }
      ]
    },
    {
      "cell_type": "markdown",
      "source": [
        "# Dicionários - Criação e Acesso\n",
        "## Cadastro de Pessoas e Análise de Alturas\n",
        "2) Solicite ao usuário para inserir o nome e a altura de várias pessoas. Preencha um dicionário com essas informações e depois encontre e imprima o nome e a altura da pessoa mais alta e da mais baixa."
      ],
      "metadata": {
        "id": "6vEHxGtjBxMi"
      }
    },
    {
      "cell_type": "code",
      "source": [
        "pessoas = {}\n",
        "\n",
        "print(\"Cadastro - Digite 'sair' para parar\")\n",
        "\n",
        "while True:\n",
        "    nome = input(\"Nome: \").strip()\n",
        "\n",
        "    if nome.lower() == 'sair':\n",
        "        break\n",
        "\n",
        "    if nome:\n",
        "        altura_input = input(\"Altura (m): \").replace(',', '.')\n",
        "\n",
        "        valido = True\n",
        "        pontos = 0\n",
        "\n",
        "        for i in altura_input:\n",
        "            if i == '.':\n",
        "                pontos += 1\n",
        "            elif not i.isdigit() and i != '.':\n",
        "                valido = False\n",
        "                break\n",
        "\n",
        "        if valido and pontos <= 1 and altura_input != '.' and altura_input != '':\n",
        "            altura = float(altura_input)\n",
        "            if altura > 0:\n",
        "                pessoas[nome] = altura\n",
        "                print(\"Cadastrado!\")\n",
        "            else:\n",
        "                print(\"Altura deve ser positiva!\")\n",
        "        else:\n",
        "            print(\"Digite um número válido!\")\n",
        "    else:\n",
        "        print(\"Nome não pode ser vazio!\")\n",
        "\n",
        "if pessoas:\n",
        "    nomes = list(pessoas.keys())\n",
        "    alturas = list(pessoas.values())\n",
        "\n",
        "    indice_mais_alto = 0\n",
        "    indice_mais_baixo = 0\n",
        "\n",
        "    for i in range(1, len(alturas)):\n",
        "        if alturas[i] > alturas[indice_mais_alto]:\n",
        "            indice_mais_alto = i\n",
        "        if alturas[i] < alturas[indice_mais_baixo]:\n",
        "            indice_mais_baixo = i\n",
        "\n",
        "    print(f\"Mais alto: {nomes[indice_mais_alto]} - {alturas[indice_mais_alto]:.2f}m\")\n",
        "    print(f\"Mais baixo: {nomes[indice_mais_baixo]} - {alturas[indice_mais_baixo]:.2f}m\")\n",
        "else:\n",
        "    print(\"Nenhuma pessoa cadastrada!\")"
      ],
      "metadata": {
        "colab": {
          "base_uri": "https://localhost:8080/"
        },
        "id": "tXF9EpcrCam4",
        "outputId": "19139010-aaf8-4b1a-9d8f-152df5e318c1"
      },
      "execution_count": null,
      "outputs": [
        {
          "output_type": "stream",
          "name": "stdout",
          "text": [
            "Cadastro - Digite 'sair' para parar\n",
            "Nome: alana\n",
            "Altura (m): 1.62\n",
            "Cadastrado!\n",
            "Nome: breno\n",
            "Altura (m): 1.68\n",
            "Cadastrado!\n",
            "Nome: maria\n",
            "Altura (m): 1.65\n",
            "Cadastrado!\n",
            "Nome: sair\n",
            "Mais alto: breno - 1.68m\n",
            "Mais baixo: alana - 1.62m\n"
          ]
        }
      ]
    },
    {
      "cell_type": "markdown",
      "source": [
        "# Lista, laços e Condicionais\n",
        "3) Descrição: Crie uma listacom cinco números inteiros. Use um laço de repetição e uma condicional para imprimir apenas os números que são múltiplos de 3."
      ],
      "metadata": {
        "id": "FytD4QZyELAt"
      }
    },
    {
      "cell_type": "code",
      "source": [
        "numeros = [3,5,12,6,9]\n",
        "\n",
        "for i in numeros:\n",
        "  if i%3 == 0:\n",
        "    print(f'O número {i} é múltiplo de 3.')"
      ],
      "metadata": {
        "colab": {
          "base_uri": "https://localhost:8080/"
        },
        "id": "UlFFKEg_b2IS",
        "outputId": "23d30ab7-868c-4602-a456-4742da145d83"
      },
      "execution_count": null,
      "outputs": [
        {
          "output_type": "stream",
          "name": "stdout",
          "text": [
            "O número 3 é múltiplo de 3.\n",
            "O número 12 é múltiplo de 3.\n",
            "O número 6 é múltiplo de 3.\n",
            "O número 9 é múltiplo de 3.\n"
          ]
        }
      ]
    },
    {
      "cell_type": "markdown",
      "source": [
        "# Manipulação de Strings e Condicionais\n",
        "4) Descrição: Crie uma string com uma frase. Use uma condicional para verificar se a frase contém a palavra \"Python\". Se sim, substitua a palavra \"Python\" por \"programação\" e imprima a nova frase."
      ],
      "metadata": {
        "id": "hwn3Fz8aEYSH"
      }
    },
    {
      "cell_type": "code",
      "source": [
        "frase = 'Python é a melhor linguagem de programação!'\n",
        "\n",
        "print(\"Frase original:\")\n",
        "print(frase)\n",
        "\n",
        "contem_python = False\n",
        "for i in range(len(frase)):\n",
        "    if frase[i] == 'P':\n",
        "        if i + 5 < len(frase) and frase[i:i+6] == \"Python\":\n",
        "            contem_python = True\n",
        "            break\n",
        "\n",
        "if contem_python:\n",
        "    resultado = \"\"\n",
        "    i = 0\n",
        "\n",
        "    while i < len(frase):\n",
        "        if frase[i] == 'P' and i + 5 < len(frase) and frase[i:i+6] == \"Python\":\n",
        "            resultado += \"programação\"\n",
        "            i += 6\n",
        "        else:\n",
        "            resultado += frase[i]\n",
        "            i += 1\n",
        "\n",
        "    print(\"Frase modificada:\")\n",
        "    print(resultado)\n",
        "else:\n",
        "    print(\"A palavra 'Python' não foi encontrada na frase.\")"
      ],
      "metadata": {
        "id": "OJ3EH9PZb64a",
        "colab": {
          "base_uri": "https://localhost:8080/"
        },
        "outputId": "a35bc1ff-30c7-4319-e42f-6f0acfe94009"
      },
      "execution_count": null,
      "outputs": [
        {
          "output_type": "stream",
          "name": "stdout",
          "text": [
            "Frase original:\n",
            "Python é a melhor linguagem de programação!\n",
            "Frase modificada:\n",
            "programação é a melhor linguagem de programação!\n"
          ]
        }
      ]
    },
    {
      "cell_type": "markdown",
      "source": [
        "# Simulação de Alfândega com Cadastro Dinâmico de Itens usando dicionário\n",
        "5) Simule uma situação de alfândega onde o funcionário cadastra itens novos encontrados na mala de uma pessoa que veio de uma viagem internacional. Após o cadastro de todos os itens, o programa imprime uma nota com todos os itens e seus preços, calcula o valor total e, se o valor total ultrapassar 500 dólares, calcula o valor de 60% a ser pago."
      ],
      "metadata": {
        "id": "hPP-JNTxEwFT"
      }
    },
    {
      "cell_type": "markdown",
      "source": [
        "# Identificação de Palavras Negativas em um Texto\n",
        "6) Você vai criar um programa em Python para analisar um texto e identificar palavras que expressam pensamentos negativos. Para isso, você usará uma lista de palavras negativas fornecida e verificará quais dessas palavras estão presentes no texto fornecido pelo usuário. Exemplo de palavras negtivas, acrescente mais na lista: # Lista de palavras negativas palavras_negativas = ['triste', 'deprimido', 'ansioso', 'desapontado', 'frustrado']"
      ],
      "metadata": {
        "id": "OH8D047zVsp-"
      }
    },
    {
      "cell_type": "code",
      "source": [
        "palavras_negativas = ['triste', 'deprimido', 'ansioso', 'desapontado', 'frustrado']\n",
        "\n",
        "texto = (input('Cole o texto e verifique quais palavras negativas tem no seu texto: '))\n",
        "\n",
        "if texto == palavras_negativas:\n",
        "  print('O texto tem palavras negativas.')\n",
        "else:\n",
        "  print('O texto não tem palavras negativas.')"
      ],
      "metadata": {
        "id": "xDSrYWf_Vr8G"
      },
      "execution_count": null,
      "outputs": []
    }
  ]
}