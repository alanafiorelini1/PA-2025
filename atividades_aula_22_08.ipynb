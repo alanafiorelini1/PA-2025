{
  "nbformat": 4,
  "nbformat_minor": 0,
  "metadata": {
    "colab": {
      "provenance": [],
      "include_colab_link": true
    },
    "kernelspec": {
      "name": "python3",
      "display_name": "Python 3"
    },
    "language_info": {
      "name": "python"
    }
  },
  "cells": [
    {
      "cell_type": "markdown",
      "metadata": {
        "id": "view-in-github",
        "colab_type": "text"
      },
      "source": [
        "<a href=\"https://colab.research.google.com/github/alanafiorelini1/PA-2025/blob/main/atividades_aula_22_08.ipynb\" target=\"_parent\"><img src=\"https://colab.research.google.com/assets/colab-badge.svg\" alt=\"Open In Colab\"/></a>"
      ]
    },
    {
      "cell_type": "markdown",
      "source": [
        "**Exercícios com for, while, listas, strings e dicionários**"
      ],
      "metadata": {
        "id": "5KtSL9tuj-zo"
      }
    },
    {
      "cell_type": "markdown",
      "source": [
        "1) Soma dos números de uma lista\n",
        "\n",
        "Dada a lista numeros = [3, 7, 2, 8, 10], use um for para calcular a soma de todos os elementos."
      ],
      "metadata": {
        "id": "ZZZicFxfkEEg"
      }
    },
    {
      "cell_type": "code",
      "source": [
        "numero = [3, 7, 2, 8, 10]\n",
        "soma = 0\n",
        "\n",
        "for i in numero:\n",
        "  soma+=i\n",
        "print(soma)"
      ],
      "metadata": {
        "id": "jTHsJNw54um-",
        "colab": {
          "base_uri": "https://localhost:8080/"
        },
        "outputId": "efa9f977-b1d3-45ab-a37d-c246d35d57cf"
      },
      "execution_count": null,
      "outputs": [
        {
          "output_type": "stream",
          "name": "stdout",
          "text": [
            "30\n"
          ]
        }
      ]
    },
    {
      "cell_type": "markdown",
      "source": [
        "2) Contagem de vogais em uma string\n",
        "\n",
        "Peça uma palavra ao usuário e use um for para contar quantas vogais (a, e, i, o, u) existem."
      ],
      "metadata": {
        "id": "Xw8gph7LkL6R"
      }
    },
    {
      "cell_type": "code",
      "source": [
        "palavra = input(\"Digite uma palavra: \").lower()\n",
        "\n",
        "contador = 0\n",
        "\n",
        "for letra in palavra:\n",
        "    if letra in \"aeiou\":\n",
        "        contador += 1\n",
        "\n",
        "print(f\"Vogais encontradas: {contador}\")"
      ],
      "metadata": {
        "colab": {
          "base_uri": "https://localhost:8080/"
        },
        "id": "yUUVCfaPh9rh",
        "outputId": "6dd70380-5587-44ee-9c8a-806c535ec688"
      },
      "execution_count": null,
      "outputs": [
        {
          "output_type": "stream",
          "name": "stdout",
          "text": [
            "Digite uma palavra: subway\n",
            "Vogais encontradas: 2\n"
          ]
        }
      ]
    },
    {
      "cell_type": "markdown",
      "source": [
        "3) Inverter lista usando while\n",
        "\n",
        "Dada a lista nomes = [\"Ana\", \"João\", \"Carlos\", \"Maria\"], use um while para inverter a ordem dos elementos (sem usar reverse() ou slicing)."
      ],
      "metadata": {
        "id": "YfW4Aw8ckZw-"
      }
    },
    {
      "cell_type": "code",
      "source": [
        "nomes = [\"Ana\", \"João\", \"Carlos\", \"Maria\"]\n",
        "print(\"Lista original:\", nomes)\n",
        "\n",
        "inicio = 0\n",
        "fim = len(nomes) - 1\n",
        "\n",
        "while inicio < fim:\n",
        "    nomes[inicio], nomes[fim] = nomes[fim], nomes[inicio]\n",
        "\n",
        "    inicio += 1\n",
        "    fim -= 1\n",
        "\n",
        "print(\"Lista invertida:\", nomes)"
      ],
      "metadata": {
        "id": "EnTcSvXZ4y10",
        "colab": {
          "base_uri": "https://localhost:8080/"
        },
        "outputId": "f6f7f9bb-2e01-4af8-ef10-e8b9fd5d2a7a"
      },
      "execution_count": null,
      "outputs": [
        {
          "output_type": "stream",
          "name": "stdout",
          "text": [
            "Lista original: ['Ana', 'João', 'Carlos', 'Maria']\n",
            "Lista invertida: ['Maria', 'Carlos', 'João', 'Ana']\n"
          ]
        }
      ]
    },
    {
      "cell_type": "markdown",
      "source": [
        "4) Maior número em uma lista\n",
        "\n",
        "Escreva um programa que percorra uma lista de inteiros e encontre o maior valor."
      ],
      "metadata": {
        "id": "cvRuv0PxkkYi"
      }
    },
    {
      "cell_type": "code",
      "source": [
        "numeros = [1,8,9,4,6,23,21,5,53]\n",
        "\n",
        "max(numeros)"
      ],
      "metadata": {
        "id": "wAqvKAQg4z4c",
        "colab": {
          "base_uri": "https://localhost:8080/"
        },
        "outputId": "b6dddff3-7c4c-40fb-8782-84bb5f92fe80"
      },
      "execution_count": null,
      "outputs": [
        {
          "output_type": "execute_result",
          "data": {
            "text/plain": [
              "53"
            ]
          },
          "metadata": {},
          "execution_count": 8
        }
      ]
    },
    {
      "cell_type": "markdown",
      "source": [
        "5) Remover elementos repetidos de uma lista\n",
        "\n",
        "Usando um for, percorra a lista valores = [1, 2, 2, 3, 4, 4, 5] e crie uma nova lista apenas com elementos únicos."
      ],
      "metadata": {
        "id": "xV6pmOVCkuCm"
      }
    },
    {
      "cell_type": "code",
      "source": [
        "valores = [1, 2, 2, 3, 4, 4, 5]\n",
        "valores_unicos = []\n",
        "\n",
        "for valor in valores:\n",
        "    if valor not in valores_unicos:\n",
        "        valores_unicos.append(valor)\n",
        "\n",
        "print(valores_unicos)"
      ],
      "metadata": {
        "colab": {
          "base_uri": "https://localhost:8080/"
        },
        "id": "wqc4q--vslAi",
        "outputId": "13198f9e-47fb-4f9c-d2e9-db94a28f1ce7"
      },
      "execution_count": 11,
      "outputs": [
        {
          "output_type": "stream",
          "name": "stdout",
          "text": [
            "[1, 2, 3, 4, 5]\n"
          ]
        }
      ]
    },
    {
      "cell_type": "markdown",
      "source": [
        "6) Verificar se palavra é palíndromo\n",
        "\n",
        "Peça uma palavra ao usuário e use while ou for para verificar se ela é igual de frente para trás (ex.: \"arara\")."
      ],
      "metadata": {
        "id": "_bHj-pkzk2TX"
      }
    },
    {
      "cell_type": "code",
      "source": [
        "palavra = input(\"Digite uma palavra: \")\n",
        "palavra = palavra.lower()\n",
        "eh_palindromo = True\n",
        "\n",
        "for i in range(len(palavra) // 2):\n",
        "    if palavra[i] != palavra[-(i + 1)]:\n",
        "        eh_palindromo = False\n",
        "        break\n",
        "\n",
        "if eh_palindromo:\n",
        "    print(\"É um palíndromo!\")\n",
        "else:\n",
        "    print(\"Não é um palíndromo.\")"
      ],
      "metadata": {
        "id": "70DdtKEJ42k6",
        "colab": {
          "base_uri": "https://localhost:8080/"
        },
        "outputId": "36634fbf-a2d1-40f5-cec4-60db6c37e68f"
      },
      "execution_count": 18,
      "outputs": [
        {
          "output_type": "stream",
          "name": "stdout",
          "text": [
            "Digite uma palavra: arara\n",
            "É um palíndromo!\n"
          ]
        }
      ]
    },
    {
      "cell_type": "markdown",
      "source": [
        "7 Contagem regressiva com while\n",
        "\n",
        "Peça ao usuário um número e faça uma contagem regressiva até 0."
      ],
      "metadata": {
        "id": "1PeOPJ3ClC0c"
      }
    },
    {
      "cell_type": "code",
      "source": [
        "numero = int(input(\"Digite um número para iniciar a contagem regressiva: \"))\n",
        "\n",
        "while numero >= 0:\n",
        "    print(numero)\n",
        "    numero -= 1\n",
        "\n",
        "print(\"Contagem finalizada!\")"
      ],
      "metadata": {
        "id": "_y1O1Adi43lj",
        "colab": {
          "base_uri": "https://localhost:8080/"
        },
        "outputId": "994c10e5-08c5-4437-f9be-70738ff0365f"
      },
      "execution_count": 19,
      "outputs": [
        {
          "output_type": "stream",
          "name": "stdout",
          "text": [
            "Digite um número para iniciar a contagem regressiva: 8\n",
            "8\n",
            "7\n",
            "6\n",
            "5\n",
            "4\n",
            "3\n",
            "2\n",
            "1\n",
            "0\n",
            "Contagem finalizada!\n"
          ]
        }
      ]
    },
    {
      "cell_type": "markdown",
      "source": [
        "8) Percorrendo um dicionário de notas\n",
        "\n",
        "Dado o dicionário notas = {\"Ana\": 8, \"Carlos\": 7, \"Maria\": 10}, use um for para exibir cada aluno com sua nota."
      ],
      "metadata": {
        "id": "wKkDTzwelK_f"
      }
    },
    {
      "cell_type": "code",
      "source": [
        "notas = {\"Ana\": 8, \"Carlos\": 7, \"Maria\": 10}\n",
        "\n",
        "for aluno, nota in notas.items():\n",
        "    print(f\"{aluno} tirou nota {nota}\")"
      ],
      "metadata": {
        "id": "GSpCdGri44Nr",
        "colab": {
          "base_uri": "https://localhost:8080/"
        },
        "outputId": "4f740ca0-77cf-49aa-887f-50eff68fcf31"
      },
      "execution_count": 22,
      "outputs": [
        {
          "output_type": "stream",
          "name": "stdout",
          "text": [
            "Ana tirou nota 8\n",
            "Carlos tirou nota 7\n",
            "Maria tirou nota 10\n"
          ]
        }
      ]
    },
    {
      "cell_type": "markdown",
      "source": [
        "9)Filtrar números pares de uma lista\n",
        "\n",
        "Dada a lista numeros = [10, 21, 32, 43, 54], use um for para criar uma nova lista contendo apenas os pares."
      ],
      "metadata": {
        "id": "xrXKbCl7lUQg"
      }
    },
    {
      "cell_type": "code",
      "source": [
        "numeros = [10, 21, 32, 43, 54]\n",
        "pares = []\n",
        "\n",
        "for numero in numeros:\n",
        "    if numero % 2 == 0:\n",
        "        pares.append(numero)\n",
        "\n",
        "print(pares)"
      ],
      "metadata": {
        "id": "TEhmg_zm44dz",
        "colab": {
          "base_uri": "https://localhost:8080/"
        },
        "outputId": "c34e01dd-fd6e-4f7e-f551-73d403f48f28"
      },
      "execution_count": 23,
      "outputs": [
        {
          "output_type": "stream",
          "name": "stdout",
          "text": [
            "[10, 32, 54]\n"
          ]
        }
      ]
    },
    {
      "cell_type": "markdown",
      "source": [
        "10) Contador de palavras em uma frase\n",
        "\n",
        "Peça ao usuário uma frase, divida em palavras (split()) e use um dicionário para contar quantas vezes cada palavra aparece."
      ],
      "metadata": {
        "id": "9pzoi0GxlcO8"
      }
    },
    {
      "cell_type": "code",
      "source": [
        "frase = input(\"Digite uma frase: \")\n",
        "palavras = frase.lower().split()\n",
        "contador = {}\n",
        "\n",
        "for palavra in palavras:\n",
        "    if palavra in contador:\n",
        "        contador[palavra] += 1\n",
        "    else:\n",
        "        contador[palavra] = 1\n",
        "\n",
        "for palavra, quantidade in contador.items():\n",
        "    print(f\"A palavra '{palavra}' aparece {quantidade} vez(es).\")"
      ],
      "metadata": {
        "id": "qytooaqu44ur",
        "colab": {
          "base_uri": "https://localhost:8080/"
        },
        "outputId": "e8a25323-1a5b-45dd-9d13-9e3a8bead8aa"
      },
      "execution_count": 25,
      "outputs": [
        {
          "output_type": "stream",
          "name": "stdout",
          "text": [
            "Digite uma frase: eu amo python!\n",
            "A palavra 'eu' aparece 1 vez(es).\n",
            "A palavra 'amo' aparece 1 vez(es).\n",
            "A palavra 'python!' aparece 1 vez(es).\n"
          ]
        }
      ]
    }
  ]
}