{
  "nbformat": 4,
  "nbformat_minor": 0,
  "metadata": {
    "colab": {
      "provenance": [],
      "authorship_tag": "ABX9TyP2i+K9lSMMWrjOSv8A7ro/",
      "include_colab_link": true
    },
    "kernelspec": {
      "name": "python3",
      "display_name": "Python 3"
    },
    "language_info": {
      "name": "python"
    }
  },
  "cells": [
    {
      "cell_type": "markdown",
      "metadata": {
        "id": "view-in-github",
        "colab_type": "text"
      },
      "source": [
        "<a href=\"https://colab.research.google.com/github/alanafiorelini1/PA-2025/blob/main/aulafluxogramas.ipynb\" target=\"_parent\"><img src=\"https://colab.research.google.com/assets/colab-badge.svg\" alt=\"Open In Colab\"/></a>"
      ]
    },
    {
      "cell_type": "markdown",
      "source": [
        "calculador de impostos"
      ],
      "metadata": {
        "id": "Qukj28Thu7j_"
      }
    },
    {
      "cell_type": "code",
      "execution_count": 1,
      "metadata": {
        "id": "SwKS6xDG_jsj",
        "colab": {
          "base_uri": "https://localhost:8080/"
        },
        "outputId": "96bd3f52-f6d1-4f5b-e640-04b83a70a6dc"
      },
      "outputs": [
        {
          "output_type": "stream",
          "name": "stdout",
          "text": [
            "Digite o valor do carro: 15699\n",
            "O valor final do carro é: 6373.794\n"
          ]
        }
      ],
      "source": [
        "#entrada\n",
        "valorcarro = float(input('Digite o valor do carro: '))\n",
        "\n",
        "#processamento\n",
        "impostos = (valorcarro*45/100) + valorcarro\n",
        "valorfinal = (impostos*28/100)\n",
        "\n",
        "#saída\n",
        "print('O valor final do carro é:', valorfinal)"
      ]
    },
    {
      "cell_type": "markdown",
      "source": [
        "conversor de segundos"
      ],
      "metadata": {
        "id": "G-fflRUUvyTW"
      }
    },
    {
      "cell_type": "code",
      "source": [
        "#entrada\n",
        "hora = float(input('Digite a hora: '))\n",
        "minutos = float(input('Digite os minutos: '))\n",
        "\n",
        "#processamento\n",
        "resultado = (minutos/60) + hora\n",
        "\n",
        "#saída\n",
        "print('O resultado é:', resultado)"
      ],
      "metadata": {
        "colab": {
          "base_uri": "https://localhost:8080/"
        },
        "id": "p-hZmMypv5mD",
        "outputId": "411f6aaa-855d-44c1-a761-247597bbf480"
      },
      "execution_count": 3,
      "outputs": [
        {
          "output_type": "stream",
          "name": "stdout",
          "text": [
            "Digite a hora: 3\n",
            "Digite os minutos: 18\n",
            "O resultado é: 3.3\n"
          ]
        }
      ]
    },
    {
      "cell_type": "markdown",
      "source": [
        "calculador de hora extra"
      ],
      "metadata": {
        "id": "FrqIRUwDwgrO"
      }
    },
    {
      "cell_type": "code",
      "source": [
        "#entrada\n",
        "horas = float(input('Digite o total de horas trabalhadas: '))\n",
        "minutos = float(input('Digite o total de minutos trabalhados: '))\n",
        "valorhora = float(input('Digite o valor ganho por hora '))\n",
        "\n",
        "#processamento\n",
        "convertido = horas+(minutos/60)\n",
        "salario = (convertido * valorhora)\n",
        "valortotal = (salario*70/100) + salario\n",
        "\n",
        "#saída\n",
        "print('O total recebido pelas horas extras é: R$', valortotal)"
      ],
      "metadata": {
        "colab": {
          "base_uri": "https://localhost:8080/"
        },
        "id": "Q0z7uikiw30W",
        "outputId": "69c16592-9b11-4fdf-bb51-600e433aa938"
      },
      "execution_count": 6,
      "outputs": [
        {
          "output_type": "stream",
          "name": "stdout",
          "text": [
            "Digite o total de horas trabalhadas: 15\n",
            "Digite o total de minutos trabalhados: 45\n",
            "Digite o valor ganho por hora 25\n",
            "O total recebido pelas horas extras é: R$ 669.375\n"
          ]
        }
      ]
    }
  ]
}