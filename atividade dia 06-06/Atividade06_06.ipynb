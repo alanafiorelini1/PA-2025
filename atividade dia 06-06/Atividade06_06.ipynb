{
  "nbformat": 4,
  "nbformat_minor": 0,
  "metadata": {
    "colab": {
      "provenance": [],
      "authorship_tag": "ABX9TyNgYIxMymeRnjoGJoNijAzT",
      "include_colab_link": true
    },
    "kernelspec": {
      "name": "python3",
      "display_name": "Python 3"
    },
    "language_info": {
      "name": "python"
    }
  },
  "cells": [
    {
      "cell_type": "markdown",
      "metadata": {
        "id": "view-in-github",
        "colab_type": "text"
      },
      "source": [
        "<a href=\"https://colab.research.google.com/github/alanafiorelini1/PA-2025/blob/main/Atividade06_06.ipynb\" target=\"_parent\"><img src=\"https://colab.research.google.com/assets/colab-badge.svg\" alt=\"Open In Colab\"/></a>"
      ]
    },
    {
      "cell_type": "markdown",
      "source": [
        "exercício 1 - número positivo, negativo ou igual a zero?"
      ],
      "metadata": {
        "id": "7-DvwV5bOhLZ"
      }
    },
    {
      "cell_type": "code",
      "execution_count": 4,
      "metadata": {
        "colab": {
          "base_uri": "https://localhost:8080/"
        },
        "id": "hSIM0gGaK02J",
        "outputId": "eeb8aa03-3287-46f1-e622-5e8fb377521d"
      },
      "outputs": [
        {
          "output_type": "stream",
          "name": "stdout",
          "text": [
            "Insira o número para descobrir: 0\n",
            "O número é igual a zero.\n"
          ]
        }
      ],
      "source": [
        "num = float (input('Insira o número para descobrir: '))\n",
        "\n",
        "if num==0:\n",
        "  print('O número é igual a zero.')\n",
        "if num<0:\n",
        "  print('O número é negativo.')\n",
        "if num>0:\n",
        "  print('O número é positivo.')"
      ]
    },
    {
      "cell_type": "markdown",
      "source": [
        "exercício 2 - número par ou ímpar?"
      ],
      "metadata": {
        "id": "F3YppugKP0EE"
      }
    },
    {
      "cell_type": "code",
      "source": [
        "numero = int (input('Digite um número se ele é par ou ímpar: '))\n",
        "\n",
        "if numero % 2 == 0:\n",
        "  print('O número é par.')\n",
        "else:\n",
        "  print('O número é ímpar.')"
      ],
      "metadata": {
        "colab": {
          "base_uri": "https://localhost:8080/"
        },
        "id": "2rfgWTNHQE09",
        "outputId": "670093fb-829e-484d-e8ae-056ef3dacb7f"
      },
      "execution_count": 6,
      "outputs": [
        {
          "output_type": "stream",
          "name": "stdout",
          "text": [
            "Digite um número se ele é par ou ímpar: 1\n",
            "O número é ímpar.\n"
          ]
        }
      ]
    },
    {
      "cell_type": "markdown",
      "source": [
        "exercício 3 - verificador de maioridade."
      ],
      "metadata": {
        "id": "ijGAWx51RaTo"
      }
    },
    {
      "cell_type": "code",
      "source": [
        "age = int(input('Digite sua idade: '))\n",
        "\n",
        "if age<18:\n",
        "  print('Você é menor de idade.')\n",
        "else:\n",
        "  print('Você é maior de idade.')"
      ],
      "metadata": {
        "colab": {
          "base_uri": "https://localhost:8080/"
        },
        "id": "jrbVIUQxRiWY",
        "outputId": "025f7f91-7d8b-434d-a30d-e781142267c7"
      },
      "execution_count": 10,
      "outputs": [
        {
          "output_type": "stream",
          "name": "stdout",
          "text": [
            "Digite sua idade: 17\n",
            "Você é menor de idade.\n"
          ]
        }
      ]
    },
    {
      "cell_type": "markdown",
      "source": [
        "exercicio 4 - a senha está correta?"
      ],
      "metadata": {
        "id": "OuzCzExpSy1u"
      }
    },
    {
      "cell_type": "code",
      "source": [
        "senha = int (input('Digite a senha: '))\n",
        "\n",
        "if senha==1234:\n",
        "  print('A senha está correta!')\n",
        "else:\n",
        "  print('A senha está incorreta.')"
      ],
      "metadata": {
        "colab": {
          "base_uri": "https://localhost:8080/"
        },
        "id": "ZIbuJlwIS2kq",
        "outputId": "9e341fa1-bc7b-43c0-d6f3-010eecd71a5d"
      },
      "execution_count": 13,
      "outputs": [
        {
          "output_type": "stream",
          "name": "stdout",
          "text": [
            "Digite a senha: 1234\n",
            "A senha está correta!\n"
          ]
        }
      ]
    },
    {
      "cell_type": "markdown",
      "source": [
        "exercício 5 - nota e aprovação"
      ],
      "metadata": {
        "id": "X-h2pd0OTTo2"
      }
    },
    {
      "cell_type": "code",
      "source": [
        "nota = float (input('Insira sua nota: '))\n",
        "\n",
        "if nota>=6:\n",
        "  print('Você está aprovado!')\n",
        "else:\n",
        "  print('Você não foi aprovado.')"
      ],
      "metadata": {
        "colab": {
          "base_uri": "https://localhost:8080/"
        },
        "id": "LHFYu5dvUN88",
        "outputId": "baa6f86c-8d07-45ee-b2fa-ff5ee6633358"
      },
      "execution_count": 17,
      "outputs": [
        {
          "output_type": "stream",
          "name": "stdout",
          "text": [
            "Insira sua nota: 6.5\n",
            "Você está aprovado!\n"
          ]
        }
      ]
    },
    {
      "cell_type": "markdown",
      "source": [
        "exercício 6 - o número é múltiplo de 3 e/ou 5?"
      ],
      "metadata": {
        "id": "uNwNTP2uU2D1"
      }
    },
    {
      "cell_type": "code",
      "source": [
        "multi = int(input('Digite um número: '))\n",
        "\n",
        "if multi%3==0:\n",
        "  print('O número é múltiplo de 3.')\n",
        "else:\n",
        "  print('O número não é múltiplo de 5.')\n",
        "\n",
        "if multi%5==0:\n",
        "  print('O número é múltiplo de 5.')\n",
        "else:\n",
        "  print('O número não é múltiplo de 5.')"
      ],
      "metadata": {
        "colab": {
          "base_uri": "https://localhost:8080/"
        },
        "id": "f6pQtoY2VBPv",
        "outputId": "d2ba7bd1-35d8-471a-cabb-ad24c1934920"
      },
      "execution_count": 22,
      "outputs": [
        {
          "output_type": "stream",
          "name": "stdout",
          "text": [
            "Digite um número: 6\n",
            "O número é múltiplo de 3.\n",
            "O número não é múltiplo de 5.\n"
          ]
        }
      ]
    },
    {
      "cell_type": "markdown",
      "source": [
        "exercício 7 - número dentro do intervalo"
      ],
      "metadata": {
        "id": "h0ni3suKW1zV"
      }
    },
    {
      "cell_type": "code",
      "source": [
        "interv = int (input('Digite um número e confira se ele está no intervalo de 10 e 20 segundos: '))\n",
        "\n",
        "if 10<= interv <=20:\n",
        "  print('O número está no intervalo de 10 a 20 segundos.')\n",
        "else:\n",
        "  print('O número não está no intervalo de 10 a 20 segundos.')"
      ],
      "metadata": {
        "colab": {
          "base_uri": "https://localhost:8080/"
        },
        "id": "7-GPsGj6XWkZ",
        "outputId": "5242f99a-e2f4-48b8-d893-9c3c5dda6174"
      },
      "execution_count": 25,
      "outputs": [
        {
          "output_type": "stream",
          "name": "stdout",
          "text": [
            "Digite um número e confira se ele está no intervalo de 10 e 20 segundos: 10\n",
            "O número está no intervalo de 10 a 20 segundos.\n"
          ]
        }
      ]
    },
    {
      "cell_type": "markdown",
      "source": [
        "exercício 8 - classificação do triângulo"
      ],
      "metadata": {
        "id": "8w8rEz5hYtDj"
      }
    },
    {
      "cell_type": "code",
      "source": [
        "l1 = float (input('Digite o valor do primeiro lado: '))\n",
        "l2 = float (input('Digite o valor do segundo lado: '))\n",
        "l3 = float (input('Digite o valor do terceiro lado: '))\n",
        "\n",
        "triangulo = (l1+l2>l3) and (l1+l3>l2) and (l2+l3>l1)\n",
        "if triangulo and (l1==l3==l2):\n",
        "  print('O triângulo é equilátero.')\n",
        "if triangulo and (l1==l2) or (l2==l3) or (l1==l3):\n",
        "  print('O triângulo é isósceles.')\n",
        "if triangulo!=l1 and triangulo!=l2 and triangulo!=l3:\n",
        "  print('O triângulo é escaleno.')\n"
      ],
      "metadata": {
        "colab": {
          "base_uri": "https://localhost:8080/"
        },
        "id": "xoZ4ChrQYy3q",
        "outputId": "27009536-380a-4d3c-95da-cbf86de21f6f"
      },
      "execution_count": 31,
      "outputs": [
        {
          "output_type": "stream",
          "name": "stdout",
          "text": [
            "Digite o valor do primeiro lado: 3\n",
            "Digite o valor do segundo lado: 5\n",
            "Digite o valor do terceiro lado: 6\n",
            "O triângulo é escaleno.\n"
          ]
        }
      ]
    }
  ]
}
