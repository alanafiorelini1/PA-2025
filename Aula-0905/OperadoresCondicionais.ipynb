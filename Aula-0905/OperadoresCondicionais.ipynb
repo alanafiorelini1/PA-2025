{
  "nbformat": 4,
  "nbformat_minor": 0,
  "metadata": {
    "colab": {
      "provenance": [],
      "authorship_tag": "ABX9TyO7B+QfXK1LMvl1vOcEN2qV",
      "include_colab_link": true
    },
    "kernelspec": {
      "name": "python3",
      "display_name": "Python 3"
    },
    "language_info": {
      "name": "python"
    }
  },
  "cells": [
    {
      "cell_type": "markdown",
      "metadata": {
        "id": "view-in-github",
        "colab_type": "text"
      },
      "source": [
        "<a href=\"https://colab.research.google.com/github/alanafiorelini1/PA-2025/blob/main/OperadoresCondicionais.ipynb\" target=\"_parent\"><img src=\"https://colab.research.google.com/assets/colab-badge.svg\" alt=\"Open In Colab\"/></a>"
      ]
    },
    {
      "cell_type": "markdown",
      "source": [
        "\n",
        "\n",
        "Par ou Ímpar\n",
        "\n"
      ],
      "metadata": {
        "id": "8W-iSBMIEU5d"
      }
    },
    {
      "cell_type": "code",
      "execution_count": null,
      "metadata": {
        "colab": {
          "base_uri": "https://localhost:8080/"
        },
        "id": "Op7RHoZAEPrm",
        "outputId": "662c7b6b-a133-4851-963d-aa5b62ff2d79"
      },
      "outputs": [
        {
          "output_type": "stream",
          "name": "stdout",
          "text": [
            "Insira um número:7\n",
            "O numero é ímpar\n"
          ]
        }
      ],
      "source": [
        "numero = int (input(\"Insira um número:\"))\n",
        "\n",
        "if numero % 2 == 0:\n",
        "  print ('O número é par')\n",
        "else:\n",
        "  print ('O número é ímpar')"
      ]
    },
    {
      "cell_type": "markdown",
      "source": [
        "\n",
        "\n",
        "usuario\n",
        "\n"
      ],
      "metadata": {
        "id": "BT1dPxULHiWt"
      }
    },
    {
      "cell_type": "code",
      "source": [
        "usuario = (input('insira o usuário: '))\n",
        "user = 'Alana Fiorelini'\n",
        "\n",
        "if usuario == user:\n",
        "  print ('O usuário corresponde')\n",
        "else:\n",
        "  print ('O usuário não corresponde')"
      ],
      "metadata": {
        "colab": {
          "base_uri": "https://localhost:8080/"
        },
        "id": "FbSsXZywGLn2",
        "outputId": "b9603f78-ea23-4caf-8594-57619ddbaccc"
      },
      "execution_count": null,
      "outputs": [
        {
          "output_type": "stream",
          "name": "stdout",
          "text": [
            "insira o usuário: Breno\n",
            "O usuário não corresponde\n"
          ]
        }
      ]
    },
    {
      "cell_type": "markdown",
      "source": [
        "Ano bissexto"
      ],
      "metadata": {
        "id": "WPYxxF7uOdkZ"
      }
    },
    {
      "cell_type": "code",
      "source": [
        "ano = int (input('Insira o ano: '))\n",
        "if ano % 4 == 0:\n",
        "  print('O ano é bissexto.')\n",
        "else:\n",
        "  print ('O ano não é bissexto.')"
      ],
      "metadata": {
        "colab": {
          "base_uri": "https://localhost:8080/"
        },
        "id": "FPz0EQ1qOwDK",
        "outputId": "359eee0b-0a8b-46f1-fa8f-f1e37520404d"
      },
      "execution_count": null,
      "outputs": [
        {
          "output_type": "stream",
          "name": "stdout",
          "text": [
            "Insira o ano: 2024\n",
            "O ano é bissexto.\n"
          ]
        }
      ]
    },
    {
      "cell_type": "markdown",
      "source": [
        "Maior de idade"
      ],
      "metadata": {
        "id": "tGY4S82LPpl0"
      }
    },
    {
      "cell_type": "code",
      "source": [
        "idade = int (input('Digite sua idade: '))\n",
        "\n",
        "if idade >=18:\n",
        "  print('Você é maior de idade.')\n",
        "else:\n",
        "  print('Você não é maior de idade.')"
      ],
      "metadata": {
        "colab": {
          "base_uri": "https://localhost:8080/"
        },
        "id": "xD1d8lNoPrHb",
        "outputId": "f7329895-9eda-4c89-8a09-b70efc193a65"
      },
      "execution_count": null,
      "outputs": [
        {
          "output_type": "stream",
          "name": "stdout",
          "text": [
            "Digite sua idade: 15\n",
            "Você não é maior de idade.\n"
          ]
        }
      ]
    }
  ]
}
