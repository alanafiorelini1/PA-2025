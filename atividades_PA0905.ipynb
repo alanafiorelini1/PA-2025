{
  "nbformat": 4,
  "nbformat_minor": 0,
  "metadata": {
    "colab": {
      "provenance": [],
      "authorship_tag": "ABX9TyN4b67Y6trKbLmFFE3ZtYcV",
      "include_colab_link": true
    },
    "kernelspec": {
      "name": "python3",
      "display_name": "Python 3"
    },
    "language_info": {
      "name": "python"
    }
  },
  "cells": [
    {
      "cell_type": "markdown",
      "metadata": {
        "id": "view-in-github",
        "colab_type": "text"
      },
      "source": [
        "<a href=\"https://colab.research.google.com/github/alanafiorelini1/PA-2025/blob/main/atividades_PA0905.ipynb\" target=\"_parent\"><img src=\"https://colab.research.google.com/assets/colab-badge.svg\" alt=\"Open In Colab\"/></a>"
      ]
    },
    {
      "cell_type": "markdown",
      "source": [
        "Par ou ímpar"
      ],
      "metadata": {
        "id": "sxtrykqFg_Hh"
      }
    },
    {
      "cell_type": "code",
      "source": [
        "numero = int (input(\"Insira um número:\"))\n",
        "\n",
        "if numero % 2 == 0:\n",
        "  print ('O número é par')\n",
        "else:\n",
        "  print ('O número é ímpar')"
      ],
      "metadata": {
        "colab": {
          "base_uri": "https://localhost:8080/"
        },
        "id": "gf3p1Z8MSO3v",
        "outputId": "b637702b-14fb-4c2e-b03f-de4ca3fb6f1d"
      },
      "execution_count": null,
      "outputs": [
        {
          "output_type": "stream",
          "name": "stdout",
          "text": [
            "Insira um número:2\n",
            "O número é par\n"
          ]
        }
      ]
    },
    {
      "cell_type": "markdown",
      "source": [
        "Cálculo da média"
      ],
      "metadata": {
        "id": "qH6PQEKNSTo4"
      }
    },
    {
      "cell_type": "code",
      "source": [
        "nota1 = float (input('Digite a primeira nota: '))\n",
        "nota2 = float (input('Digite a segunda nota: '))\n",
        "nota3 = float (input('Digite a terceira nota: '))\n",
        "\n",
        "if (nota1+nota2+nota3)/3 >= 6:\n",
        "  print('Você está aprovado.')\n",
        "else:\n",
        "  print('Você está de recuperação.')\n"
      ],
      "metadata": {
        "colab": {
          "base_uri": "https://localhost:8080/"
        },
        "id": "ssTe-rgjSXCw",
        "outputId": "c906c947-8d6d-48af-903b-4278578ab843"
      },
      "execution_count": null,
      "outputs": [
        {
          "output_type": "stream",
          "name": "stdout",
          "text": [
            "Digite a primeira nota: 10\n",
            "Digite a segunda nota: 10\n",
            "Digite a terceira nota: 9\n",
            "Você está aprovado.\n"
          ]
        }
      ]
    },
    {
      "cell_type": "markdown",
      "source": [
        "Maioridade"
      ],
      "metadata": {
        "id": "YqMd-7faUGaC"
      }
    },
    {
      "cell_type": "code",
      "source": [
        "idade = int (input('Digite sua idade: '))\n",
        "\n",
        "if idade >=18:\n",
        "  print('Você é maior de idade.')\n",
        "else:\n",
        "  print('Você não é maior de idade.')"
      ],
      "metadata": {
        "colab": {
          "base_uri": "https://localhost:8080/"
        },
        "id": "GC8yXIMOUPWy",
        "outputId": "c2f9eec0-ddbb-495e-8062-7758e0af16f8"
      },
      "execution_count": null,
      "outputs": [
        {
          "output_type": "stream",
          "name": "stdout",
          "text": [
            "Digite sua idade: 15\n",
            "Você não é maior de idade.\n"
          ]
        }
      ]
    },
    {
      "cell_type": "markdown",
      "source": [
        "Múltiplo de 5"
      ],
      "metadata": {
        "id": "sQ_T1qdKUYYb"
      }
    },
    {
      "cell_type": "code",
      "source": [
        "num = float (input('Digite um número: '))\n",
        "\n",
        "if num % 5 == 0:\n",
        "  print('O número é múltipo de 5')\n",
        "else:\n",
        "  print('O número não é múltiplo de 5')"
      ],
      "metadata": {
        "colab": {
          "base_uri": "https://localhost:8080/"
        },
        "id": "Pj_NXGSPVexE",
        "outputId": "fb062ee6-328b-47a1-e5b9-47aa54dcabbe"
      },
      "execution_count": null,
      "outputs": [
        {
          "output_type": "stream",
          "name": "stdout",
          "text": [
            "Digite um número: 95\n",
            "O número é múltipo de 5\n"
          ]
        }
      ]
    },
    {
      "cell_type": "markdown",
      "source": [
        "Cálculo de IMC"
      ],
      "metadata": {
        "id": "XKJjvLwMVgiD"
      }
    },
    {
      "cell_type": "code",
      "source": [
        "peso = float (input('Digite seu peso: '))\n",
        "altura = float (input('Digite sua altura: '))\n",
        "imc = (peso/altura**2)\n",
        "\n",
        "print('Seu IMC é de:', imc)\n",
        "\n",
        "if imc<=18.5:\n",
        "  print('Você está abaixo do peso.')\n",
        "if (imc>=18.6) or (imc==24.9):\n",
        "  print('Você está saudável.')\n",
        "if (imc>=25) or (imc==29.9):\n",
        "  print('Você está sobrepeso.')\n",
        "if (imc>=30) or (imc==34.9):\n",
        "  print('Você tem obesidade grau 1.')\n",
        "if (imc>=35) or (imc==39.9):\n",
        "  print('Você tem obesidade grau 2.')\n",
        "if imc>40:\n",
        "  print('Você tem obesidade grau 3')"
      ],
      "metadata": {
        "colab": {
          "base_uri": "https://localhost:8080/"
        },
        "id": "zIbPthskVjH7",
        "outputId": "c85ccef0-58a3-4771-a59b-01da9233498a"
      },
      "execution_count": null,
      "outputs": [
        {
          "output_type": "stream",
          "name": "stdout",
          "text": [
            "Digite seu peso: 59\n",
            "Digite sua altura: 1.62\n",
            "Seu IMC é de: 22.481329065691202\n",
            "Você está saudável.\n"
          ]
        }
      ]
    },
    {
      "cell_type": "markdown",
      "source": [
        "Número positivo, negativo ou zero?"
      ],
      "metadata": {
        "id": "jAuqh7a_hNei"
      }
    },
    {
      "cell_type": "code",
      "source": [
        "num = float (input('Insira um número: '))\n",
        "\n",
        "if num>0:\n",
        "  print ('O número é positivo.')\n",
        "if num<0:\n",
        "  print ('O número é negativo.')\n",
        "if num==0:\n",
        "  print ('O número é igual a zero.')"
      ],
      "metadata": {
        "id": "N4HN0NDqhOtf",
        "colab": {
          "base_uri": "https://localhost:8080/"
        },
        "outputId": "6fd01eee-6123-4a16-a0c0-974ee50ca473"
      },
      "execution_count": null,
      "outputs": [
        {
          "output_type": "stream",
          "name": "stdout",
          "text": [
            "Insira um número: 0\n",
            "O número é igual a zero.\n"
          ]
        }
      ]
    },
    {
      "cell_type": "markdown",
      "source": [
        "Calculadora simples"
      ],
      "metadata": {
        "id": "BG364LmHIXo4"
      }
    },
    {
      "cell_type": "code",
      "source": [
        "num1 = float (input('Insira o primeiro número: '))\n",
        "num2 = float (input('Insira o segundo número: '))\n",
        "operacao= str (input('Escolha uma das seguintes operações: adição, subtração, multiplicação ou divisão: '))\n",
        "adc= num1+num2\n",
        "sub= num1-num2\n",
        "mult= num1*num2\n",
        "div= num1/num2\n",
        "\n",
        "if operacao=='adição':\n",
        "   print ('O resultado é:', adc)\n",
        "if operacao=='subtração':\n",
        "  print ('O resultado é:', sub)\n",
        "if operacao=='multiplicação':\n",
        "  print ('O resultado é:', mult)\n",
        "if operacao=='divisão':\n",
        "  print ('O resultado é:', div)"
      ],
      "metadata": {
        "colab": {
          "base_uri": "https://localhost:8080/"
        },
        "id": "fJ5E6AfxIW1s",
        "outputId": "4b5f8ba8-644d-4c1b-97d1-7328f62722ee"
      },
      "execution_count": null,
      "outputs": [
        {
          "output_type": "stream",
          "name": "stdout",
          "text": [
            "Insira o primeiro número: 34\n",
            "Insira o segundo número: 87\n",
            "Escolha uma das seguintes operações: adição, subtração, multiplicação ou divisão: subtração\n",
            "O resultado é: -53.0\n"
          ]
        }
      ]
    },
    {
      "cell_type": "markdown",
      "source": [
        "Contagem crescente"
      ],
      "metadata": {
        "id": "Gmi11oqwSpey"
      }
    },
    {
      "cell_type": "code",
      "source": [
        "print ('Contagem de número crescente:')\n",
        "print('1')\n",
        "print ('2')\n",
        "print ('3')\n",
        "print ('4')\n",
        "print ('5')\n",
        "print ('6')\n",
        "print ('7')\n",
        "print ('7')\n",
        "print ('8')\n",
        "print ('9')\n",
        "print ('10')"
      ],
      "metadata": {
        "colab": {
          "base_uri": "https://localhost:8080/"
        },
        "id": "aaOPeg-sSro1",
        "outputId": "db3ab18d-840c-465d-b73b-80f413b45c1b"
      },
      "execution_count": null,
      "outputs": [
        {
          "output_type": "stream",
          "name": "stdout",
          "text": [
            "Contagem de número crescente:\n",
            "1\n",
            "2\n",
            "3\n",
            "4\n",
            "5\n",
            "6\n",
            "7\n",
            "7\n",
            "8\n",
            "9\n",
            "10\n"
          ]
        }
      ]
    },
    {
      "cell_type": "markdown",
      "source": [
        "Contagem regressiva"
      ],
      "metadata": {
        "id": "ZPp0o2PWT199"
      }
    },
    {
      "cell_type": "code",
      "source": [
        "print ('O foguete vai ser lançado em:')\n",
        "print ('10')\n",
        "print ('9')\n",
        "print ('8')\n",
        "print ('7')\n",
        "print ('6')\n",
        "print ('5')\n",
        "print ('4')\n",
        "print ('3')\n",
        "print ('2')\n",
        "print ('1')"
      ],
      "metadata": {
        "colab": {
          "base_uri": "https://localhost:8080/"
        },
        "id": "GyKoEFRtT4TI",
        "outputId": "1bd32c9b-27f7-43e1-cb5f-a0280e718ce3"
      },
      "execution_count": null,
      "outputs": [
        {
          "output_type": "stream",
          "name": "stdout",
          "text": [
            "O foguete vai ser lançado em:\n",
            "10\n",
            "9\n",
            "8\n",
            "7\n",
            "6\n",
            "5\n",
            "4\n",
            "3\n",
            "2\n",
            "1\n"
          ]
        }
      ]
    },
    {
      "cell_type": "markdown",
      "source": [
        "Tabuada de um número"
      ],
      "metadata": {
        "id": "GI8Az3TxP87X"
      }
    },
    {
      "cell_type": "code",
      "source": [
        "number = int (input('Digite um número para ver a tabuada: '))\n",
        "\n",
        "print(f'Tabuada do número {number}')\n",
        "print(f'1 x {number} = {number*1}')\n",
        "print(f'2 x {number} = {number*2}')\n",
        "print(f'3 x {number} = {number*3}')\n",
        "print(f'4 x {number} = {number*4}')\n",
        "print(f'5 x {number} = {number*5}')\n",
        "print(f'6 x {number} = {number*6}')\n",
        "print(f'7 x {number} = {number*7}')\n",
        "print(f'8 x {number} = {number*8}')\n",
        "print(f'9 x {number} = {number*9}')\n",
        "print(f'10 x {number} = {number*10}')"
      ],
      "metadata": {
        "colab": {
          "base_uri": "https://localhost:8080/"
        },
        "id": "eVTgLXF1QGtQ",
        "outputId": "c8ae4a6d-ca18-4ebd-f719-04984e6e23c2"
      },
      "execution_count": null,
      "outputs": [
        {
          "output_type": "stream",
          "name": "stdout",
          "text": [
            "Digite um número para ver a tabuada: 9\n",
            "Tabuada do número 9\n",
            "1 x 9 = 9\n",
            "2 x 9 = 18\n",
            "3 x 9 = 27\n",
            "4 x 9 = 36\n",
            "5 x 9 = 45\n",
            "6 x 9 = 54\n",
            "7 x 9 = 63\n",
            "8 x 9 = 72\n",
            "9 x 9 = 81\n",
            "10 x 9 = 90\n"
          ]
        }
      ]
    },
    {
      "cell_type": "markdown",
      "source": [
        "Soma de 1 a 100"
      ],
      "metadata": {
        "id": "L63HLlRISkbI"
      }
    },
    {
      "cell_type": "code",
      "source": [
        "soma = 100 * (100 + 1) // 2\n",
        "print(f'A soma de todos os números de 1 a 100 é {soma}')"
      ],
      "metadata": {
        "colab": {
          "base_uri": "https://localhost:8080/"
        },
        "id": "oz1vPIZJSkBI",
        "outputId": "f7602aee-d2d7-4420-b7e9-6262c48cbe32"
      },
      "execution_count": 21,
      "outputs": [
        {
          "output_type": "stream",
          "name": "stdout",
          "text": [
            "A soma de todos os números de 1 a 100 é 5050\n"
          ]
        }
      ]
    },
    {
      "cell_type": "markdown",
      "source": [
        "Busca em lista"
      ],
      "metadata": {
        "id": "T0qztpvWUCig"
      }
    },
    {
      "cell_type": "code",
      "source": [
        "lista1 = 21\n",
        "lista2 = 14\n",
        "lista3 = 35\n",
        "info = int (input('Insira um número e verifique se ele está na lista: '))\n",
        "\n",
        "\n",
        "if info==lista1 or info==lista2 or info==lista3:\n",
        "  print('Este número está na lista.')\n",
        "else:\n",
        "  print('Este número não está na lista.')"
      ],
      "metadata": {
        "id": "B3ZD3eltUEts",
        "colab": {
          "base_uri": "https://localhost:8080/"
        },
        "outputId": "534f6a52-28be-484a-c711-28f863a79f6e"
      },
      "execution_count": null,
      "outputs": [
        {
          "output_type": "stream",
          "name": "stdout",
          "text": [
            "Insira um número e verifique se ele está na lista: 14\n",
            "Este número está na lista.\n"
          ]
        }
      ]
    },
    {
      "cell_type": "markdown",
      "source": [
        "Jogo de adivinhação"
      ],
      "metadata": {
        "id": "ljROPFVXUFNf"
      }
    },
    {
      "cell_type": "code",
      "source": [
        "import random\n",
        "numero_secreto = random.randint(1, 10)\n",
        "\n",
        "print(\"Bem-vindo ao Jogo de Adivinhação!\")\n",
        "print(\"Tente adivinhar o número entre 1 e 10.\")\n",
        "\n",
        "palpite = int(input(\"Digite seu palpite: \"))\n",
        "\n",
        "\n",
        "if palpite == numero_secreto:\n",
        "        print(f\"Parabéns! Você acertou! O número era {numero_secreto}.\")\n",
        "elif palpite < 1 or palpite > 10:\n",
        "        print(\"Por favor, digite um número entre 1 e 10.\")\n",
        "else:\n",
        "        print(f\"Que pena! Você errou. O número correto era {numero_secreto}.\")\n",
        "\n"
      ],
      "metadata": {
        "id": "SLT42yyrUIPb",
        "colab": {
          "base_uri": "https://localhost:8080/"
        },
        "outputId": "d796403d-4dfd-4b90-c4fd-91f309bcde8c"
      },
      "execution_count": 18,
      "outputs": [
        {
          "output_type": "stream",
          "name": "stdout",
          "text": [
            "Bem-vindo ao Jogo de Adivinhação!\n",
            "Tente adivinhar o número entre 1 e 10.\n",
            "Digite seu palpite: 10\n",
            "Parabéns! Você acertou! O número era 10.\n"
          ]
        }
      ]
    }
  ]
}