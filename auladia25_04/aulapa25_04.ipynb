{
  "nbformat": 4,
  "nbformat_minor": 0,
  "metadata": {
    "colab": {
      "provenance": [],
      "authorship_tag": "ABX9TyNSYhGXMcnS/AfN0i9UpIRJ",
      "include_colab_link": true
    },
    "kernelspec": {
      "name": "python3",
      "display_name": "Python 3"
    },
    "language_info": {
      "name": "python"
    }
  },
  "cells": [
    {
      "cell_type": "markdown",
      "metadata": {
        "id": "view-in-github",
        "colab_type": "text"
      },
      "source": [
        "<a href=\"https://colab.research.google.com/github/alanafiorelini1/PA-2025/blob/main/aulapa25_04.ipynb\" target=\"_parent\"><img src=\"https://colab.research.google.com/assets/colab-badge.svg\" alt=\"Open In Colab\"/></a>"
      ]
    },
    {
      "cell_type": "markdown",
      "source": [
        "Número par ou ímpar"
      ],
      "metadata": {
        "id": "qrKTRjVsJoqc"
      }
    },
    {
      "cell_type": "code",
      "execution_count": null,
      "metadata": {
        "colab": {
          "base_uri": "https://localhost:8080/"
        },
        "id": "le0wEzfQHoh8",
        "outputId": "1e2df49b-b3cc-4e61-94b0-33d7ce2e1296"
      },
      "outputs": [
        {
          "output_type": "stream",
          "name": "stdout",
          "text": [
            "Digite um número: 56\n",
            "O número 56 é Par\n"
          ]
        }
      ],
      "source": [
        "valor = int (input('Digite um número: '))\n",
        "\n",
        "resultado = [\"Par\", \"Ímpar\"][valor % 2]\n",
        "\n",
        "print(f\"O número {valor} é {resultado}\")"
      ]
    },
    {
      "cell_type": "markdown",
      "source": [
        "Triângulo\n"
      ],
      "metadata": {
        "id": "McMBvMDvJsMS"
      }
    },
    {
      "cell_type": "code",
      "source": [
        "l1 = float (input('Digite o valor do primeiro lado: '))\n",
        "l2 = float (input('Digite o valor do segundo lado: '))\n",
        "l3 = float (input('Digite o valor do terceiro lado: '))\n",
        "\n",
        "triangulo = (l1+l2>l3) and (l1+l3>l2) and (l2+l3>l1)\n",
        "equilatero = triangulo and (l1==l3==l2)\n",
        "isosceles = triangulo and (l1==l2) or (l2==l3) or (l1==l3)\n",
        "escaleno = triangulo and not equilatero and not isosceles\n",
        "\n",
        "print(f\"É um triângulo? {triangulo}\")\n",
        "print(f\"É um equilatero? {equilatero}\")\n",
        "print(f\"É um isosceles? {isosceles}\")\n",
        "print(f\"É um escaleno? {escaleno}\")"
      ],
      "metadata": {
        "colab": {
          "base_uri": "https://localhost:8080/"
        },
        "id": "gbtPikCeMTX7",
        "outputId": "7c49d2c8-a06c-4603-8d0e-13e91e142ee8"
      },
      "execution_count": 1,
      "outputs": [
        {
          "output_type": "stream",
          "name": "stdout",
          "text": [
            "Digite o valor do primeiro lado: 4\n",
            "Digite o valor do segundo lado: 5\n",
            "Digite o valor do terceiro lado: 6\n",
            "É um triângulo? True\n",
            "É um equilatero? False\n",
            "É um isosceles? False\n",
            "É um escaleno? True\n"
          ]
        }
      ]
    },
    {
      "cell_type": "markdown",
      "source": [
        "Calculador de IMC"
      ],
      "metadata": {
        "id": "uVCcQek-1kk3"
      }
    },
    {
      "cell_type": "code",
      "source": [
        "peso = float (input('Insira seu peso: '))\n",
        "altura = float (input('Insira sua altura: '))\n",
        "\n",
        "imc=(peso/altura**2)\n",
        "abaixo= (imc<18.5)\n",
        "saudavel = (imc>=18.6) or (imc==24.9)\n",
        "sobrepeso = (imc>=25) or (imc==29.9)\n",
        "obesidade1 = (imc>=30) or (imc==34.9)\n",
        "obesidade2 = (imc>=35) or (imc==39.9)\n",
        "obesidade3 = (imc>40)\n",
        "\n",
        "print('Seu IMC é de: ', imc)\n",
        "print(f'Seu IMC está abaixo do peso? {abaixo}')\n",
        "print(f'Seu IMC está saudável? {saudavel}')\n",
        "print(f'Seu IMC está sobrepeso? {sobrepeso}')\n",
        "print(f'Seu IMC é obesidade grau 1? {obesidade1}')\n",
        "print(f'Seu IMC é obesidade grau 2? {obesidade2}')\n",
        "print(f'Seu IMC é obesidade grau 3? {obesidade3}')\n",
        "\n",
        "\n",
        "\n",
        "\n"
      ],
      "metadata": {
        "colab": {
          "base_uri": "https://localhost:8080/"
        },
        "id": "9-6F7TC31nUs",
        "outputId": "fa668574-10b4-42a1-b5b7-e7db69a20cc2"
      },
      "execution_count": 15,
      "outputs": [
        {
          "output_type": "stream",
          "name": "stdout",
          "text": [
            "Insira seu peso: 68\n",
            "Insira sua altura:1.67\n",
            "Seu IMC é de:  24.38237297859371\n",
            "Seu IMC está abaixo do peso? False\n",
            "Seu IMC está saudável? True\n",
            "Seu IMC está sobrepeso? False\n",
            "Seu IMC é obesidade grau 1? False\n",
            "Seu IMC é obesidade grau 2? False\n",
            "Seu IMC é obesidade grau 3? False\n"
          ]
        }
      ]
    },
    {
      "cell_type": "markdown",
      "source": [
        "Campeonato de Vôlei"
      ],
      "metadata": {
        "id": "Vr4_MUePD7qJ"
      }
    },
    {
      "cell_type": "code",
      "source": [
        "altura = float (input('Insira sua altura: '))\n",
        "idade = int (input('Insira sua idade: '))\n",
        "\n",
        "regras = (altura>=1.75) and (idade>=18)\n",
        "\n",
        "print(f'Você pode competir? {regras}')"
      ],
      "metadata": {
        "colab": {
          "base_uri": "https://localhost:8080/"
        },
        "id": "xL1_f9McEAGb",
        "outputId": "8a80466f-7988-4630-8cd1-9452546f2a34"
      },
      "execution_count": 16,
      "outputs": [
        {
          "output_type": "stream",
          "name": "stdout",
          "text": [
            "Insira sua altura: 1.62\n",
            "Insira sua idade: 15\n",
            "Você pode competir? False\n"
          ]
        }
      ]
    }
  ]
}
