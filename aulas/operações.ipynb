{
  "nbformat": 4,
  "nbformat_minor": 0,
  "metadata": {
    "colab": {
      "provenance": [],
      "authorship_tag": "ABX9TyO2bYv2/S9HDYOJZmyUwQZu",
      "include_colab_link": true
    },
    "kernelspec": {
      "name": "python3",
      "display_name": "Python 3"
    },
    "language_info": {
      "name": "python"
    }
  },
  "cells": [
    {
      "cell_type": "markdown",
      "metadata": {
        "id": "view-in-github",
        "colab_type": "text"
      },
      "source": [
        "<a href=\"https://colab.research.google.com/github/alanafiorelini1/PA-2025/blob/main/opera%C3%A7%C3%B5es.ipynb\" target=\"_parent\"><img src=\"https://colab.research.google.com/assets/colab-badge.svg\" alt=\"Open In Colab\"/></a>"
      ]
    },
    {
      "cell_type": "markdown",
      "source": [
        "calculador de média de provas"
      ],
      "metadata": {
        "id": "IJqe_ZsehgGV"
      }
    },
    {
      "cell_type": "code",
      "execution_count": 8,
      "metadata": {
        "colab": {
          "base_uri": "https://localhost:8080/"
        },
        "id": "qX3fEjRffpns",
        "outputId": "bcabcc23-2879-483a-e741-531b0ec67dd0"
      },
      "outputs": [
        {
          "output_type": "stream",
          "name": "stdout",
          "text": [
            "Digite a nota final da primeira prova: 45\n",
            "Digite a nota final da segunda prova: 60\n",
            "A média da nota é:  52.5\n"
          ]
        }
      ],
      "source": [
        "#entrada\n",
        "prova1 = float(input('Digite a nota final da primeira prova: '))\n",
        "prova2 = float(input('Digite a nota final da segunda prova: '))\n",
        "\n",
        "#processamento\n",
        "soma = prova1+prova2\n",
        "media = soma/2\n",
        "\n",
        "#saída\n",
        "print('A média da nota é: ', media)"
      ]
    },
    {
      "cell_type": "markdown",
      "source": [
        "calculador de preço"
      ],
      "metadata": {
        "id": "4D0rtBi_uoBZ"
      }
    },
    {
      "cell_type": "code",
      "source": [
        "#entrada\n",
        "valor = float(input('Digite o valor da peça: '))\n",
        "qide = float(input('Digite a quantidade de peças: '))\n",
        "\n",
        "#processamento\n",
        "vt = valor*qide\n",
        "\n",
        "#saída\n",
        "print('O valor total é de:', vt)"
      ],
      "metadata": {
        "colab": {
          "base_uri": "https://localhost:8080/"
        },
        "id": "x3rkkxg6n2k2",
        "outputId": "3a86548a-73c3-4c9d-bdaf-cbe70ebceb81"
      },
      "execution_count": 12,
      "outputs": [
        {
          "output_type": "stream",
          "name": "stdout",
          "text": [
            "Digite o valor da peça: 35.50\n",
            "Digite a quantidade de peças: 3\n",
            "O valor total é de: 106.5\n"
          ]
        }
      ]
    },
    {
      "cell_type": "markdown",
      "source": [
        "conversor de célsius em fahrenheit"
      ],
      "metadata": {
        "id": "ftGakxcQuq9q"
      }
    },
    {
      "cell_type": "code",
      "source": [
        "#entrada\n",
        "celsius = float(input('Digite quantos celsius está agora: '))\n",
        "\n",
        "#processamento\n",
        "fahrenheit = (celsius*1.8)+32\n",
        "\n",
        "#saída\n",
        "print('A temperatura em fahrenheit é:', fahrenheit )"
      ],
      "metadata": {
        "colab": {
          "base_uri": "https://localhost:8080/"
        },
        "id": "B_fE_Dcft-Z8",
        "outputId": "15a6124c-e59d-4bda-f826-27b910bb917c"
      },
      "execution_count": 14,
      "outputs": [
        {
          "output_type": "stream",
          "name": "stdout",
          "text": [
            "Digite quantos celsius está agora: 28.9\n",
            "A temperatura em fahrenheit é: 84.02\n"
          ]
        }
      ]
    },
    {
      "cell_type": "markdown",
      "source": [
        "conversor de km/h em mph"
      ],
      "metadata": {
        "id": "9kqwJOg_0JXN"
      }
    },
    {
      "cell_type": "code",
      "source": [
        "#entrada\n",
        "km = float(input('Digite o total de Km/h: '))\n",
        "\n",
        "#processamento\n",
        "mph = km/1.609\n",
        "\n",
        "#saída\n",
        "print('A velocidade em milhas por hora (mph) é: ', mph)"
      ],
      "metadata": {
        "colab": {
          "base_uri": "https://localhost:8080/"
        },
        "id": "Wml5GAIq0bSh",
        "outputId": "05aba4b3-901b-4a8b-d9e4-e21cfc5be997"
      },
      "execution_count": 17,
      "outputs": [
        {
          "output_type": "stream",
          "name": "stdout",
          "text": [
            "Digite o total de Km/h: 80\n",
            "A velocidade em milhas por hora (mph) é:  49.720323182100685\n"
          ]
        }
      ]
    }
  ]
}
