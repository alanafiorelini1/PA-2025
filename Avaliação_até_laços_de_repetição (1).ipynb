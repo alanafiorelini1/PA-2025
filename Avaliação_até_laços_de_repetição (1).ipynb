{
 "cells": [
  {
   "cell_type": "markdown",
   "metadata": {
    "id": "oncsAo0QKXM4"
   },
   "source": [
    "**Coloque seu nome aqui: Alana Fiorelini**"
   ]
  },
  {
   "cell_type": "markdown",
   "metadata": {
    "id": "2Wtw01VyHzBQ"
   },
   "source": [
    "1)Crie um programa em python que imprima números pares\n",
    "\n",
    "a) Pedir o usuário para digitar uma lista com mínimo 10 números\n",
    "\n",
    "b) Criar uma nova somente com numeros pares\n",
    "\n",
    "c) Imprimir números pares"
   ]
  },
  {
   "cell_type": "code",
   "execution_count": 42,
   "metadata": {
    "id": "iBpbyKp8KNKX"
   },
   "outputs": [
    {
     "name": "stdin",
     "output_type": "stream",
     "text": [
      "Digite o 1° número e descubra quais são pares:  1\n",
      "Digite o 2° número e descubra quais são pares:  2\n",
      "Digite o 3° número e descubra quais são pares:  3\n",
      "Digite o 4° número e descubra quais são pares:  4\n",
      "Digite o 5° número e descubra quais são pares:  5\n",
      "Digite o 6° número e descubra quais são pares:  6\n",
      "Digite o 7° número e descubra quais são pares:  7\n",
      "Digite o 8° número e descubra quais são pares:  8\n",
      "Digite o 9° número e descubra quais são pares:  9\n",
      "Digite o 10° número e descubra quais são pares:  10\n"
     ]
    },
    {
     "name": "stdout",
     "output_type": "stream",
     "text": [
      "[2, 4, 6, 8, 10]\n"
     ]
    }
   ],
   "source": [
    "pares = []\n",
    "\n",
    "for i in range(1,11):\n",
    "    numeros = int (input (f'Digite o {i}° número e descubra quais são pares: '))\n",
    "\n",
    "    if numeros % 2 == 0:\n",
    "       pares.append(numeros)\n",
    "\n",
    "print(pares)"
   ]
  },
  {
   "cell_type": "markdown",
   "metadata": {
    "id": "bBYPSr8JHpUA"
   },
   "source": [
    "2)Crie um programa que conte quantas vezes cada palavra aparece em uma frase.\n",
    "\n",
    "Pedir ao usuário para digitar uma frase. Imprimir a palavra e quantas vezes ela aparece"
   ]
  },
  {
   "cell_type": "code",
   "execution_count": 48,
   "metadata": {
    "id": "wrhGujbvHebJ"
   },
   "outputs": [
    {
     "name": "stdin",
     "output_type": "stream",
     "text": [
      "Insira uma frase e descubra quantas vezes cada palavra aparece:  a rã arranha a aranha, a aranha arranha a rã\n"
     ]
    },
    {
     "name": "stdout",
     "output_type": "stream",
     "text": [
      "\n",
      "Contagem de palavras:\n",
      "'a': 4 vez(es)\n",
      "'rã': 2 vez(es)\n",
      "'arranha': 2 vez(es)\n",
      "'aranha,': 1 vez(es)\n",
      "'aranha': 1 vez(es)\n"
     ]
    }
   ],
   "source": [
    "frase = input('Insira uma frase e descubra quantas vezes cada palavra aparece: ')\n",
    "palavras = frase.lower().split()\n",
    "contador = {}\n",
    "\n",
    "for j in palavras:\n",
    "  if j in contador:\n",
    "    contador[j]+=1\n",
    "  else:\n",
    "    contador[j]=1\n",
    "\n",
    "print(\"\\nContagem de palavras:\")\n",
    "for j, quantidade in contador.items():\n",
    "    print(f\"'{j}': {quantidade} vez(es)\")"
   ]
  },
  {
   "cell_type": "markdown",
   "metadata": {
    "id": "bbWz0aL2HjP3"
   },
   "source": [
    "3)Crie um programa em Python para avaliar um desfile de candidatas. O programa deve:\n",
    "\n",
    "a) Perguntar quantas candidatas vão participar.\n",
    "\n",
    "b) Perguntar o nome de cada candidata.\n",
    "\n",
    "c) Para cada candidata, receber 3 notas (uma de cada jurado).\n",
    "\n",
    "d) Somar as notas e guardar o total em um dicionário, onde a chave é o nome da candidata e o valor é a soma das notas.\n",
    "\n",
    "Mostrar ao final:\n",
    "\n",
    "a) A pontuação total de cada candidata.\n",
    "\n",
    "b) O nome da vencedora (a que tiver a maior pontuação)."
   ]
  },
  {
   "cell_type": "code",
   "execution_count": 23,
   "metadata": {},
   "outputs": [
    {
     "name": "stdout",
     "output_type": "stream",
     "text": [
      "Bem-vindo ao desfile!\n",
      "\n"
     ]
    },
    {
     "name": "stdin",
     "output_type": "stream",
     "text": [
      "Quantas candidatas participarão?  3\n",
      "Digite o nome da candidata:  Louise\n",
      "Nota do 1° jurado:  4\n",
      "Nota do 2° jurado:  7\n",
      "Nota do 3° jurado:  8\n",
      "Digite o nome da candidata:  Maria\n",
      "Nota do 1° jurado:  9\n",
      "Nota do 2° jurado:  8\n",
      "Nota do 3° jurado:  10\n",
      "Digite o nome da candidata:  Manuella\n",
      "Nota do 1° jurado:  1\n",
      "Nota do 2° jurado:  2\n",
      "Nota do 3° jurado:  2\n"
     ]
    },
    {
     "name": "stdout",
     "output_type": "stream",
     "text": [
      "\n",
      "----RESULTADOS----\n",
      "\n",
      "Pontuação de cada candidata:\n",
      "Louise: 19\n",
      "Maria: 27\n",
      "Manuella: 5\n",
      "\n",
      "E A VENCEDORA É....\n",
      "Manuella!!!\n"
     ]
    }
   ],
   "source": [
    "print('Bem-vindo ao desfile!\\n')\n",
    "candidatas = {}\n",
    "total = 0\n",
    "\n",
    "qtd = int (input('Quantas candidatas participarão? '))\n",
    "for i in range(qtd):\n",
    "    nomes = input(\"Digite o nome da candidata: \")\n",
    "    if nomes:\n",
    "        for a in range(1,4):\n",
    "            nota = int (input(f\"Nota do {a}° jurado: \"))\n",
    "            total += nota\n",
    "            candidatas[nomes] = total\n",
    "        total = 0\n",
    "vencedora =  max(candidatas, key=len)\n",
    "print(\"\\n----RESULTADOS----\")\n",
    "\n",
    "print(f\"\\nPontuação de cada candidata:\")\n",
    "for nome, pontuacao in candidatas.items():\n",
    "    print(f\"{nome}: {pontuacao}\")\n",
    "\n",
    "print(\"\\nE A VENCEDORA É....\")\n",
    "print(f\"{vencedora}!!!\")"
   ]
  },
  {
   "cell_type": "code",
   "execution_count": null,
   "metadata": {},
   "outputs": [],
   "source": []
  }
 ],
 "metadata": {
  "colab": {
   "provenance": []
  },
  "kernelspec": {
   "display_name": "Python 3 (ipykernel)",
   "language": "python",
   "name": "python3"
  },
  "language_info": {
   "codemirror_mode": {
    "name": "ipython",
    "version": 3
   },
   "file_extension": ".py",
   "mimetype": "text/x-python",
   "name": "python",
   "nbconvert_exporter": "python",
   "pygments_lexer": "ipython3",
   "version": "3.11.4"
  }
 },
 "nbformat": 4,
 "nbformat_minor": 4
}
