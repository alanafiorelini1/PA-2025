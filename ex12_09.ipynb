{
  "nbformat": 4,
  "nbformat_minor": 0,
  "metadata": {
    "colab": {
      "provenance": [],
      "authorship_tag": "ABX9TyMDzeKs7BdRaJjyPsLjGM2n",
      "include_colab_link": true
    },
    "kernelspec": {
      "name": "python3",
      "display_name": "Python 3"
    },
    "language_info": {
      "name": "python"
    }
  },
  "cells": [
    {
      "cell_type": "markdown",
      "metadata": {
        "id": "view-in-github",
        "colab_type": "text"
      },
      "source": [
        "<a href=\"https://colab.research.google.com/github/alanafiorelini1/PA-2025/blob/main/ex12_09.ipynb\" target=\"_parent\"><img src=\"https://colab.research.google.com/assets/colab-badge.svg\" alt=\"Open In Colab\"/></a>"
      ]
    },
    {
      "cell_type": "markdown",
      "source": [
        "### *Exercícios*\n",
        "\n"
      ],
      "metadata": {
        "id": "daA45darM85u"
      }
    },
    {
      "cell_type": "markdown",
      "source": [
        "1) MOSTRAR TODOS OS NÚMEROS ÍMPARES DE 1 A 30\n",
        "\n",
        "\n"
      ],
      "metadata": {
        "id": "JUIC82eUXaAv"
      }
    },
    {
      "cell_type": "code",
      "source": [
        "for i in range(1,31, 2):\n",
        "  print(i)"
      ],
      "metadata": {
        "colab": {
          "base_uri": "https://localhost:8080/"
        },
        "id": "P68-IrEIXWCE",
        "outputId": "207cf388-e085-46a4-cc2e-721a0f2e5599"
      },
      "execution_count": null,
      "outputs": [
        {
          "output_type": "stream",
          "name": "stdout",
          "text": [
            "1\n",
            "3\n",
            "5\n",
            "7\n",
            "9\n",
            "11\n",
            "13\n",
            "15\n",
            "17\n",
            "19\n",
            "21\n",
            "23\n",
            "25\n",
            "27\n",
            "29\n"
          ]
        }
      ]
    },
    {
      "cell_type": "markdown",
      "source": [
        "2) CONTADOR DE UM NÚMERO INCIAL E UM NÚMERO FINAL DIGITADOS PELO USUÁRIO\n"
      ],
      "metadata": {
        "id": "tdPXVdM3XjM-"
      }
    },
    {
      "cell_type": "code",
      "source": [
        "valor1 = int (input('Digite o primeiro número para começar a contagem: '))\n",
        "valor2 = int (input('Digite o número onde a contagem terminará: '))\n",
        "\n",
        "for contador in range(valor1, valor2):\n",
        "  print(contador)"
      ],
      "metadata": {
        "colab": {
          "base_uri": "https://localhost:8080/"
        },
        "id": "5TNjd0FCXrYX",
        "outputId": "b63ea755-09bc-403c-c966-80ac8fc9ff0e"
      },
      "execution_count": null,
      "outputs": [
        {
          "output_type": "stream",
          "name": "stdout",
          "text": [
            "Digite o primeiro número para começar a contagem: 1\n",
            "Digite o número onde a contagem terminará: 14\n",
            "1\n",
            "2\n",
            "3\n",
            "4\n",
            "5\n",
            "6\n",
            "7\n",
            "8\n",
            "9\n",
            "10\n",
            "11\n",
            "12\n",
            "13\n"
          ]
        }
      ]
    },
    {
      "cell_type": "markdown",
      "source": [
        "\n",
        "3) SOME TODOS OS NÚMEROS DE 1 A 10\n"
      ],
      "metadata": {
        "id": "3gMod1DfXr3w"
      }
    },
    {
      "cell_type": "code",
      "source": [
        "print(sum(range(1,11)))"
      ],
      "metadata": {
        "id": "8Bsyt0KqXumq",
        "colab": {
          "base_uri": "https://localhost:8080/"
        },
        "outputId": "87e5d7c1-fef6-4551-ff61-ad10c6ddfc90"
      },
      "execution_count": null,
      "outputs": [
        {
          "output_type": "stream",
          "name": "stdout",
          "text": [
            "55\n"
          ]
        }
      ]
    },
    {
      "cell_type": "markdown",
      "source": [
        "\n",
        "4) USANDO O WHILE PERGUNTE AO USUÁRIO QUAL A MELHOR ESCOLHA DE RIBEIRÃO PIRES, ENQUANTO A PESSOA NÃO DIGITAR \"ETEC MCM\", ENQUANTO NÃO DIGITA CERTO ELE VAI INFORMANDO QUE O USUÁRIO ERROU\n"
      ],
      "metadata": {
        "id": "eF2KjGJWXvZJ"
      }
    },
    {
      "cell_type": "code",
      "source": [
        "melhor = str (input('Qual a melhor escola de Ribeirão Pires? '))\n",
        "\n",
        "while melhor != 'Etec MCM' and melhor != 'ETEC MCM' and melhor != 'etec mcm':\n",
        "  print('Incorreto!!')\n",
        "  melhor = str (input('Qual a melhor escola de Ribeirão Pires? '))\n",
        "else:\n",
        "  print('Corretíssimo!!')"
      ],
      "metadata": {
        "id": "b903u8RiXxn4",
        "colab": {
          "base_uri": "https://localhost:8080/"
        },
        "outputId": "882f0e5d-c412-42d4-99d5-d3bca14bb5bb"
      },
      "execution_count": null,
      "outputs": [
        {
          "output_type": "stream",
          "name": "stdout",
          "text": [
            "Qual a melhor escola de Ribeirão Pires? sesi\n",
            "Incorreto!!\n",
            "Qual a melhor escola de Ribeirão Pires? Etec MCM\n",
            "Corretíssimo!!\n"
          ]
        }
      ]
    },
    {
      "cell_type": "markdown",
      "source": [
        "\n",
        "5) Receba um número, verifique se é diferente de zero, caso seja diferente,continue retornando falso até que ele digite esse valor.\n"
      ],
      "metadata": {
        "id": "oMMTVhEuXyDP"
      }
    },
    {
      "cell_type": "code",
      "source": [
        "num = int(input('Adivinhe o número secreto: '))\n",
        "\n",
        "while num != 0:\n",
        "  print('Incorreto.')\n",
        "  num = int(input('Tente novamente: '))\n",
        "else:\n",
        "  print('Número certo!!')"
      ],
      "metadata": {
        "colab": {
          "base_uri": "https://localhost:8080/"
        },
        "id": "xc8WoZv5XzxI",
        "outputId": "784c3d02-8b2b-43ea-e818-73a3de23ba9e"
      },
      "execution_count": null,
      "outputs": [
        {
          "output_type": "stream",
          "name": "stdout",
          "text": [
            "Adivinhe o número secreto: 1\n",
            "Incorreto.\n",
            "Tente novamente: 2\n",
            "Incorreto.\n",
            "Tente novamente: 0\n",
            "Número certo!!\n"
          ]
        }
      ]
    },
    {
      "cell_type": "markdown",
      "source": [
        "\n",
        "6) SOMAR NÚMEROS ATÉ QUE O USUÁRIO DIGITE 0\n"
      ],
      "metadata": {
        "id": "2nBdyrWKX0Mu"
      }
    },
    {
      "cell_type": "code",
      "source": [
        "soma = 0\n",
        "print('Some vários números (digite 0 para sair).')\n",
        "while True:\n",
        "  x = float(input('Digite: '))\n",
        "  if x == 0:\n",
        "    print('Encerrado.')\n",
        "    break\n",
        "  soma += x\n",
        "print(f'A soma de todos números digitados é {soma}')"
      ],
      "metadata": {
        "colab": {
          "base_uri": "https://localhost:8080/"
        },
        "id": "vsjiw5jlX2vh",
        "outputId": "5f7ad7c5-b130-476d-e923-ad2fc0575da5"
      },
      "execution_count": null,
      "outputs": [
        {
          "output_type": "stream",
          "name": "stdout",
          "text": [
            "Some vários números (digite 0 para sair).\n",
            "Digite: 5\n",
            "Digite: 4\n",
            "Digite: 0\n",
            "Encerrado.\n",
            "A soma de todos números digitados é 9.0\n"
          ]
        }
      ]
    },
    {
      "cell_type": "markdown",
      "source": [
        "\n",
        "7) CRIE UM MENU DE OPÇÕES, COM 3 OPÇÕES,E ELE VAI SOLICITANDO NOVAMENTE A OPÇÕES ATÉ QUE O USUÁRIO ESCOLHA A OPÇÃO SAIR\n"
      ],
      "metadata": {
        "id": "609Ne7sPX3r4"
      }
    },
    {
      "cell_type": "code",
      "source": [
        "opcao = str (input('Escolha uma das opções; entrar, cadastrar ou sair: '))\n",
        "if opcao != 'sair' and opcao!= 'entrar' and opcao!='cadastrar':\n",
        "  print('Opção inválida.')\n",
        "  opcao = str (input('Escolha novamente uma das opções; entrar, cadastrar ou sair: '))\n",
        "\n",
        "while opcao != 'sair':\n",
        "  opcao = str (input('Escolha novamente uma das opções; entrar, cadastrar ou sair: '))\n",
        "else:\n",
        "  print('Encerrado')"
      ],
      "metadata": {
        "id": "ZQTUeWC8X6I8",
        "colab": {
          "base_uri": "https://localhost:8080/"
        },
        "outputId": "45cc8279-f796-4361-b9f5-9ea64f0582d4"
      },
      "execution_count": null,
      "outputs": [
        {
          "output_type": "stream",
          "name": "stdout",
          "text": [
            "Escolha uma das opções; entrar, cadastrar ou sair: entrar\n",
            "Escolha novamente uma das opções; entrar, cadastrar ou sair: sair\n",
            "Encerrado\n"
          ]
        }
      ]
    },
    {
      "cell_type": "markdown",
      "source": [
        "\n",
        "8) Faça um programa que mostre os n termos da Série a seguir e realize o cálculo\n",
        "Solicite ao usuário a quantidade de repetições\n",
        "\n",
        "s = (1/1)+(2/3)+(3/5)+(4/7)+...+...n/m"
      ],
      "metadata": {
        "id": "3xnKLn-KX6mq"
      }
    },
    {
      "cell_type": "code",
      "source": [
        "n = int(input(\"Digite o número de termos da série: \"))\n",
        "\n",
        "soma = 0\n",
        "denominador = 1\n",
        "\n",
        "print(\"Série:\")\n",
        "for numerador in range(1, n + 1):\n",
        "    termo = numerador / denominador\n",
        "    print(f\"{numerador}/{denominador}\", end=\" \")\n",
        "    if numerador < n:\n",
        "        print(\"+\", end=\" \")\n",
        "    soma += termo\n",
        "    denominador += 2\n",
        "\n",
        "print(f\"\\n\\nSoma dos {n} termos da série: {soma:.4f}\")"
      ],
      "metadata": {
        "id": "jEc-7UgqX8PC",
        "colab": {
          "base_uri": "https://localhost:8080/"
        },
        "outputId": "f334ca84-b9fc-4c26-9eec-5183f62f5cfc"
      },
      "execution_count": null,
      "outputs": [
        {
          "output_type": "stream",
          "name": "stdout",
          "text": [
            "Digite o número de termos da série: 4\n",
            "Série:\n",
            "1/1 + 2/3 + 3/5 + 4/7 \n",
            "\n",
            "Soma dos 4 termos da série: 2.8381\n"
          ]
        }
      ]
    },
    {
      "cell_type": "markdown",
      "source": [
        "-----\n",
        "### *Lista do márcio*\n"
      ],
      "metadata": {
        "id": "eBAfiy7YM6WE"
      }
    },
    {
      "cell_type": "markdown",
      "source": [
        "1) Soma dos números de uma lista\n",
        "Dada a lista numeros = [3, 7, 2, 8, 10], use um for para calcular a soma de todos os elementos.\n"
      ],
      "metadata": {
        "id": "hhoQDNsDLjB3"
      }
    },
    {
      "cell_type": "code",
      "source": [
        "soma = 0\n",
        "numeros = [3, 7, 2, 8, 10]\n",
        "\n",
        "for i in numeros:\n",
        "  soma += i\n",
        "print('A soma de todos os números da lista é:', soma)"
      ],
      "metadata": {
        "colab": {
          "base_uri": "https://localhost:8080/"
        },
        "id": "REo2KiljHgkz",
        "outputId": "5873b43a-0935-4169-e74b-038a6c4f0ad3"
      },
      "execution_count": null,
      "outputs": [
        {
          "output_type": "stream",
          "name": "stdout",
          "text": [
            "A soma de todos os números da lista é: 30\n"
          ]
        }
      ]
    },
    {
      "cell_type": "markdown",
      "source": [
        "2) Contagem de vogais em uma string\n",
        "Peça uma palavra ao usuário e use um for para contar quantas vogais (a, e, i, o, u) existem."
      ],
      "metadata": {
        "id": "b2wzJwBQLnNX"
      }
    },
    {
      "cell_type": "code",
      "source": [
        "palavra = input(\"Digite uma palavra: \").lower()\n",
        "\n",
        "contador = 0\n",
        "\n",
        "for letra in palavra:\n",
        "    if letra in \"aeiou\":\n",
        "        contador += 1\n",
        "\n",
        "print(f\"Vogais encontradas: {contador}\")"
      ],
      "metadata": {
        "colab": {
          "base_uri": "https://localhost:8080/"
        },
        "id": "7JTqkGVqHidL",
        "outputId": "55a11a83-b403-4039-e1dc-033add7a8aac"
      },
      "execution_count": null,
      "outputs": [
        {
          "output_type": "stream",
          "name": "stdout",
          "text": [
            "Digite uma palavra: arara\n",
            "Vogais encontradas: 3\n"
          ]
        }
      ]
    },
    {
      "cell_type": "markdown",
      "source": [
        "3) Inverter lista usando while\n",
        "Dada a lista nomes = [\"Ana\", \"João\", \"Carlos\", \"Maria\"], use um while para inverter a ordem dos elementos (sem usar reverse() ou slicing)."
      ],
      "metadata": {
        "id": "wO_gUBtALuFW"
      }
    },
    {
      "cell_type": "code",
      "source": [
        "nomes = [\"Ana\", \"João\", \"Carlos\", \"Maria\"]\n",
        "invertida = []\n",
        "\n",
        "i = len(nomes) - 1\n",
        "while i >= 0:\n",
        "    invertida.append(nomes[i])\n",
        "    i -= 1\n",
        "\n",
        "print(invertida)"
      ],
      "metadata": {
        "id": "cPERP9r1Hj9H",
        "colab": {
          "base_uri": "https://localhost:8080/"
        },
        "outputId": "d3fbf914-aae7-4189-f598-366b2a09c6a8"
      },
      "execution_count": null,
      "outputs": [
        {
          "output_type": "stream",
          "name": "stdout",
          "text": [
            "['Maria', 'Carlos', 'João', 'Ana']\n"
          ]
        }
      ]
    },
    {
      "cell_type": "markdown",
      "source": [
        "4) Maior número em uma lista\n",
        "Escreva um programa que percorra uma lista de inteiros e encontre o maior valor.\n"
      ],
      "metadata": {
        "id": "eMhYXQJ1LwQJ"
      }
    },
    {
      "cell_type": "code",
      "source": [
        "numeros = [10, 25, 3, 99, 47, 88]\n",
        "\n",
        "maior = numeros[0]\n",
        "\n",
        "i = 1\n",
        "while i < len(numeros):\n",
        "    if numeros[i] > maior:\n",
        "        maior = numeros[i]\n",
        "    i += 1\n",
        "\n",
        "print(\"O maior número é:\", maior)"
      ],
      "metadata": {
        "id": "Kro58uKXHkm_",
        "colab": {
          "base_uri": "https://localhost:8080/"
        },
        "outputId": "0bd50d7b-e522-48a5-8d55-2f449c33ed35"
      },
      "execution_count": null,
      "outputs": [
        {
          "output_type": "stream",
          "name": "stdout",
          "text": [
            "O maior número é: 99\n"
          ]
        }
      ]
    },
    {
      "cell_type": "markdown",
      "source": [
        "5) Remover elementos repetidos de uma lista\n",
        "Usando um for, percorra a lista valores = [1, 2, 2, 3, 4, 4, 5] e crie uma nova lista apenas com elementos únicos.\n"
      ],
      "metadata": {
        "id": "znQ4WrpaLx8K"
      }
    },
    {
      "cell_type": "code",
      "source": [
        "valores = [1, 2, 2, 3, 4, 4, 5]\n",
        "unicos = []\n",
        "\n",
        "for valor in valores:\n",
        "    if valor not in unicos:\n",
        "        unicos.append(valor)\n",
        "\n",
        "print(\"Lista com elementos únicos:\", unicos)"
      ],
      "metadata": {
        "id": "04VbbWefHoTs",
        "colab": {
          "base_uri": "https://localhost:8080/"
        },
        "outputId": "a0780aa6-f6e2-4e3e-cfa0-d1befa7bbb06"
      },
      "execution_count": null,
      "outputs": [
        {
          "output_type": "stream",
          "name": "stdout",
          "text": [
            "Lista com elementos únicos: [1, 2, 3, 4, 5]\n"
          ]
        }
      ]
    },
    {
      "cell_type": "markdown",
      "source": [
        "6) Verificar se palavra é palíndromo\n",
        "Peça uma palavra ao usuário e use while ou for para verificar se ela é igual de frente para trás (ex.: \"arara\")."
      ],
      "metadata": {
        "id": "IVqOeNdKL0WJ"
      }
    },
    {
      "cell_type": "code",
      "source": [
        "palavra = input('Digite uma palavra: ')\n",
        "inverso = \"\"\n",
        "\n",
        "for letra in palavra:\n",
        "  inverso = letra + inverso\n",
        "if inverso == palavra:\n",
        "  print('É palíndroma.')\n",
        "\n",
        "else:\n",
        "  print('Não é palíndroma.')"
      ],
      "metadata": {
        "id": "L3wHgBYvHqQK",
        "colab": {
          "base_uri": "https://localhost:8080/"
        },
        "outputId": "adb15a9c-0f9a-4295-bcd5-50b40fd0ccf3"
      },
      "execution_count": null,
      "outputs": [
        {
          "output_type": "stream",
          "name": "stdout",
          "text": [
            "Digite uma palavra: osso\n",
            "É palíndroma.\n"
          ]
        }
      ]
    },
    {
      "cell_type": "markdown",
      "source": [
        "7) Contagem regressiva com while\n",
        "\n",
        "Peça ao usuário um número e faça uma contagem regressiva até 0."
      ],
      "metadata": {
        "id": "OGUY9CWJMMbT"
      }
    },
    {
      "cell_type": "code",
      "source": [
        "contagem = int (input('Digite um número para começar a contagem regressiva: '))\n",
        "\n",
        "while contagem >=0:\n",
        "  print(contagem)\n",
        "  contagem -= 1"
      ],
      "metadata": {
        "id": "koJGaPl5IVVs",
        "colab": {
          "base_uri": "https://localhost:8080/"
        },
        "outputId": "9950140a-ca94-4bb6-e67e-9e8f9009cb13"
      },
      "execution_count": null,
      "outputs": [
        {
          "output_type": "stream",
          "name": "stdout",
          "text": [
            "Digite um número para começar a contagem regressiva: 21\n",
            "21\n",
            "20\n",
            "19\n",
            "18\n",
            "17\n",
            "16\n",
            "15\n",
            "14\n",
            "13\n",
            "12\n",
            "11\n",
            "10\n",
            "9\n",
            "8\n",
            "7\n",
            "6\n",
            "5\n",
            "4\n",
            "3\n",
            "2\n",
            "1\n",
            "0\n"
          ]
        }
      ]
    },
    {
      "cell_type": "markdown",
      "source": [
        "8) Percorrendo um dicionário de notas\n",
        "Dado o dicionário notas = {\"Ana\": 8, \"Carlos\": 7, \"Maria\": 10}, use um for para exibir cada aluno com sua nota.\n"
      ],
      "metadata": {
        "id": "q08n4cVzMOII"
      }
    },
    {
      "cell_type": "code",
      "source": [
        "notas = {\"Ana\": 8, \"Carlos\": 7, \"Maria\": 10}\n",
        "\n",
        "for nome, nota in notas.items():\n",
        "  print(f\"{nome}: {nota}\")"
      ],
      "metadata": {
        "id": "hopI5ckPIXFE",
        "colab": {
          "base_uri": "https://localhost:8080/"
        },
        "outputId": "218c584e-4e51-420f-8de8-c7d31ff3c67b"
      },
      "execution_count": null,
      "outputs": [
        {
          "output_type": "stream",
          "name": "stdout",
          "text": [
            "Ana: 8\n",
            "Carlos: 7\n",
            "Maria: 10\n"
          ]
        }
      ]
    },
    {
      "cell_type": "markdown",
      "source": [
        "9)Filtrar números pares de uma lista\n",
        "\n",
        "Dada a lista numeros = [10, 21, 32, 43, 54], use um for para criar uma nova lista contendo apenas os pares.\n"
      ],
      "metadata": {
        "id": "-aH24f3oMQKj"
      }
    },
    {
      "cell_type": "code",
      "source": [
        "numeros = [10, 21, 32, 43, 54]\n",
        "print('Lista original:', numeros)\n",
        "pares = []\n",
        "for n in numeros:\n",
        "  if n % 2== 0:\n",
        "    pares.append(n)\n",
        "print('Lista apenas com pares:', pares)"
      ],
      "metadata": {
        "id": "8_tvX6ZWIZMh",
        "colab": {
          "base_uri": "https://localhost:8080/"
        },
        "outputId": "1b72b8ea-bf84-4a06-d0e4-40b71cf3e809"
      },
      "execution_count": null,
      "outputs": [
        {
          "output_type": "stream",
          "name": "stdout",
          "text": [
            "Lista original: [10, 21, 32, 43, 54]\n",
            "Lista apenas com pares: [10, 32, 54]\n"
          ]
        }
      ]
    },
    {
      "cell_type": "markdown",
      "source": [
        "10) Contador de palavras em uma frase\n",
        "Peça ao usuário uma frase, divida em palavras (split()) e use um dicionário para contar quantas vezes cada palavra aparece.\n",
        "Com manipulação de listas, tuplas e dicionários:"
      ],
      "metadata": {
        "id": "d4wVMTUbMSCN"
      }
    },
    {
      "cell_type": "code",
      "source": [
        "frase = input('Insira uma frase e descubra quantas vezes uma palavra aparece: ')\n",
        "palavras = frase.lower().split()\n",
        "contadorpalavras = {}\n",
        "\n",
        "for p in palavras:\n",
        "  if p in contadorpalavras:\n",
        "    contadorpalavras[p]+=1\n",
        "  else:\n",
        "    contadorpalavras[p]=1\n",
        "\n",
        "print(\"\\nContagem de palavras:\")\n",
        "for p, quantidade in contadorpalavras.items():\n",
        "    print(f\"'{p}': {quantidade} vez(es)\")\n"
      ],
      "metadata": {
        "id": "UsB9n8CSMSlh",
        "colab": {
          "base_uri": "https://localhost:8080/"
        },
        "outputId": "99dbe41b-a115-41be-d425-03f63aec9158"
      },
      "execution_count": null,
      "outputs": [
        {
          "output_type": "stream",
          "name": "stdout",
          "text": [
            "Insira uma frase e descubra quantas vezes uma palavra aparece: a rã arranha a aranha, a aranha arranha a rã\n",
            "\n",
            "Contagem de palavras:\n",
            "'a': 4 vez(es)\n",
            "'rã': 2 vez(es)\n",
            "'arranha': 2 vez(es)\n",
            "'aranha,': 1 vez(es)\n",
            "'aranha': 1 vez(es)\n"
          ]
        }
      ]
    },
    {
      "cell_type": "markdown",
      "source": [
        "### Outra lista"
      ],
      "metadata": {
        "id": "ZIulWDvHyGQF"
      }
    },
    {
      "cell_type": "markdown",
      "source": [
        "\n",
        "\n",
        "1) Tuplas - Acesso e Desempacotamento\n",
        "Crie uma tupla contendo três tipos diferentes de dados: um número, uma string e uma lista. Use um laço de repetição para acessar e imprimir cada item da tupla. Além disso, dentro do laço, acesse e imprima o segundo item da lista que está dentro da tupla."
      ],
      "metadata": {
        "id": "gBqT_QngyNBj"
      }
    },
    {
      "cell_type": "code",
      "source": [
        "dados = (21, \"perfume\", [2, 4, \"morango\", 8.5])\n",
        "\n",
        "for item in dados:\n",
        "  print(item)\n",
        "print(dados[2][1])"
      ],
      "metadata": {
        "id": "q5K_CUswyMAg",
        "colab": {
          "base_uri": "https://localhost:8080/"
        },
        "outputId": "d119473e-61ff-4f4a-e5e8-903114696c18"
      },
      "execution_count": null,
      "outputs": [
        {
          "output_type": "stream",
          "name": "stdout",
          "text": [
            "21\n",
            "perfume\n",
            "[2, 4, 'morango', 8.5]\n",
            "4\n"
          ]
        }
      ]
    },
    {
      "cell_type": "markdown",
      "source": [
        "\n",
        "2) Cadastro de Pessoas e Análise de Alturas\n",
        "Solicite ao usuário para inserir o nome e a altura de várias pessoas. Preencha um dicionário com essas informações e depois encontre e imprima o nome e a altura da pessoa mais alta e da mais baixa.\n"
      ],
      "metadata": {
        "id": "RWj16TypyW3F"
      }
    },
    {
      "cell_type": "code",
      "source": [
        "pessoas = {}\n",
        "\n",
        "print(\"Cadastro de pessoas e altura, digite 'sair' para encerrar.\")\n",
        "\n",
        "while True:\n",
        "  nome = (input('\\nDigite o nome: ')).strip()\n",
        "  if nome.lower() == 'sair':\n",
        "    print('Encerrado.')\n",
        "    break\n",
        "\n",
        "  while True:\n",
        "    try:\n",
        "      altura = float (input(f'Insira a altura de {nome} (em metros): ').replace(',','.'))\n",
        "      pessoas[nome] = altura\n",
        "      break\n",
        "    except ValueError:\n",
        "      print('Por favor, digite um número válido!')\n",
        "\n",
        "\n",
        "for nome,altura in pessoas.items():\n",
        "  print(f'{nome}: {altura}m')\n",
        "\n",
        "pessoaalta = max(pessoas.items(), key=lambda x: x[1])\n",
        "pessoabaixa = min(pessoas.items(), key=lambda x: x[1])\n",
        "\n",
        "print(\"\\nAnálise de alturas\")\n",
        "print(f\"Pessoa mais alta: {pessoaalta[0]} - {pessoaalta[1]}m\")\n",
        "print(f\"Pessoa mais baixa: {pessoabaixa[0]} - {pessoabaixa[1]}m\")"
      ],
      "metadata": {
        "id": "yk5licoKyg2C",
        "colab": {
          "base_uri": "https://localhost:8080/"
        },
        "outputId": "b6092a51-7a92-4054-9cab-5cace854e8f3"
      },
      "execution_count": 12,
      "outputs": [
        {
          "output_type": "stream",
          "name": "stdout",
          "text": [
            "Cadastro de pessoas e altura, digite 'sair' para encerrar.\n",
            "\n",
            "Digite o nome: breno\n",
            "Insira a altura de breno (em metros): 1.68\n",
            "\n",
            "Digite o nome: alana\n",
            "Insira a altura de alana (em metros): 1.62\n",
            "\n",
            "Digite o nome: janaina\n",
            "Insira a altura de janaina (em metros): 1.67\n",
            "\n",
            "Digite o nome: maria\n",
            "Insira a altura de maria (em metros): 1.65\n",
            "\n",
            "Digite o nome: sair\n",
            "Encerrado.\n",
            "breno: 1.68m\n",
            "alana: 1.62m\n",
            "janaina: 1.67m\n",
            "maria: 1.65m\n",
            "\n",
            "Análise de alturas\n",
            "Pessoa mais alta: breno - 1.68m\n",
            "Pessoa mais baixa: alana - 1.62m\n"
          ]
        }
      ]
    },
    {
      "cell_type": "markdown",
      "source": [
        "\n",
        "3) Lista, laços e Condicionais\n",
        "Descrição: Crie uma listacom cinco números inteiros. Use um laço de repetição e uma condicional para imprimir apenas os números que são múltiplos de 3.\n"
      ],
      "metadata": {
        "id": "fFYyCVwsyhbt"
      }
    },
    {
      "cell_type": "code",
      "source": [
        "num = [14,21,15,8,6]\n",
        "\n",
        "print('Lista original:', num)\n",
        "print(\"\\nNúmeros múltiplos de 3:\")\n",
        "\n",
        "for n in num:\n",
        "  if n % 3 == 0:\n",
        "    print(n)"
      ],
      "metadata": {
        "id": "Mgy88q1QylqK",
        "colab": {
          "base_uri": "https://localhost:8080/"
        },
        "outputId": "0a2db1b1-f511-4597-8616-534af45eab3b"
      },
      "execution_count": 14,
      "outputs": [
        {
          "output_type": "stream",
          "name": "stdout",
          "text": [
            "Lista original: [14, 21, 15, 8, 6]\n",
            "\n",
            "Números múltiplos de 3:\n",
            "21\n",
            "15\n",
            "6\n"
          ]
        }
      ]
    },
    {
      "cell_type": "markdown",
      "source": [
        "\n",
        "4) Manipulação de Strings e Condicionais\n",
        "Descrição: Crie uma string com uma frase. Use uma condicional para verificar se a frase contém a palavra \"Python\". Se sim, substitua a palavra \"Python\" por \"programação\" e imprima a nova frase.\n"
      ],
      "metadata": {
        "id": "qbDPsPAzymIm"
      }
    },
    {
      "cell_type": "code",
      "source": [
        "frase = \"Eu amo Python!\"\n",
        "\n",
        "print('Frase original:', frase)\n",
        "\n",
        "if \"Python\" in frase:\n",
        "  novo = frase.replace(\"Python\", \"programação\")\n",
        "  print(\"\\nNova frase:\")\n",
        "  print(novo)"
      ],
      "metadata": {
        "id": "JfB0mNAAyxWd",
        "colab": {
          "base_uri": "https://localhost:8080/"
        },
        "outputId": "78755208-9886-4d93-cea0-4a1e43412939"
      },
      "execution_count": 15,
      "outputs": [
        {
          "output_type": "stream",
          "name": "stdout",
          "text": [
            "Frase original: Eu amo Python!\n",
            "\n",
            "Nova frase:\n",
            "Eu amo programação!\n"
          ]
        }
      ]
    },
    {
      "cell_type": "markdown",
      "source": [
        "\n",
        "5) Simulação de Alfândega com Cadastro Dinâmico de Itens usando dicionário\n",
        "Simule uma situação de alfândega onde o funcionário cadastra itens novos encontrados na mala de uma pessoa que veio de uma viagem internacional. Após o cadastro de todos os itens, o programa imprime uma nota com todos os itens e seus preços, calcula o valor total e, se o valor total ultrapassar 500 dólares, calcula o valor de 60% a ser pago.\n"
      ],
      "metadata": {
        "id": "XsBLqGDBysc3"
      }
    },
    {
      "cell_type": "code",
      "source": [
        "itens = {}\n",
        "\n",
        "print(\"Cadastro de itens da alfândega\")\n",
        "print(\"Digite 'sair' para encerrar\")\n",
        "\n",
        "while True:\n",
        "    item = input(\"Nome do item: \")\n",
        "    if item.lower() == 'sair':\n",
        "        break\n",
        "\n",
        "    try:\n",
        "        preco = float(input(\"Preço em dólares: \"))\n",
        "        itens[item] = preco\n",
        "    except:\n",
        "        print(\"Preço inválido!\")\n",
        "        continue\n",
        "\n",
        "if itens:\n",
        "    print(\"\\nNota fiscal:\")\n",
        "    total = 0\n",
        "    for item, preco in itens.items():\n",
        "        print(f\"{item}: ${preco:.2f}\")\n",
        "        total += preco\n",
        "\n",
        "    print(f\"Total: ${total:.2f}\")\n",
        "\n",
        "    if total > 500:\n",
        "        imposto = total * 0.6\n",
        "        print(f\"Imposto (60%): ${imposto:.2f}\")\n",
        "        print(f\"Total a pagar: ${total + imposto:.2f}\")\n",
        "    else:\n",
        "        print(\"Isento de impostos\")\n",
        "\n",
        "else:\n",
        "    print(\"Nenhum item cadastrado\")"
      ],
      "metadata": {
        "colab": {
          "base_uri": "https://localhost:8080/"
        },
        "id": "mKxyeANrdXn8",
        "outputId": "eb521798-44bd-4fa3-c294-ca99a010ab11"
      },
      "execution_count": 22,
      "outputs": [
        {
          "output_type": "stream",
          "name": "stdout",
          "text": [
            "Cadastro de itens da alfândega\n",
            "Digite 'sair' para encerrar\n",
            "Nome do item: PC\n",
            "Preço em dólares: 200\n",
            "Nome do item: Fone\n",
            "Preço em dólares: 30.50\n",
            "Nome do item: Microfone\n",
            "Preço em dólares: 24.50\n",
            "Nome do item: sair\n",
            "\n",
            "Nota fiscal:\n",
            "PC: $200.00\n",
            "Fone: $30.50\n",
            "Microfone: $24.50\n",
            "Total: $255.00\n",
            "Isento de impostos\n"
          ]
        }
      ]
    },
    {
      "cell_type": "markdown",
      "source": [
        "\n",
        "6) Identificação de Palavras Negativas em um Texto\n",
        "Você vai criar um programa em Python para analisar um texto e identificar palavras que expressam pensamentos negativos. Para isso, você usará uma lista de palavras negativas fornecida e verificará quais dessas palavras estão presentes no texto fornecido pelo usuário. Exemplo de palavras negtivas, acrescente mais na lista: # Lista de palavras negativas palavras_negativas = ['triste', 'deprimido', 'ansioso', 'desapontado', 'frustrado']"
      ],
      "metadata": {
        "id": "jzB7CLcyyv6F"
      }
    },
    {
      "cell_type": "code",
      "source": [
        "palavras_negativas = ['triste', 'deprimido', 'ansioso', 'desapontado', 'frustrado', 'raiva', 'ódio', 'medo', 'solidão', 'culpa', 'desespero', 'angústia']\n",
        "\n",
        "texto = input(\"Digite o texto para análise:\").lower()\n",
        "palavras = texto.split()\n",
        "\n",
        "encontradas = []\n",
        "for palavra in palavras:\n",
        "  limpo = palavra.strip('.,!?;:()\"\\'')\n",
        "  if limpo in palavras_negativas:\n",
        "    if limpo not in encontradas:\n",
        "      encontradas.append(limpo)\n",
        "\n",
        "if encontradas:\n",
        "  print(\"\\nPalavras negativas encontradas: \")\n",
        "  for p in encontradas:\n",
        "    print(f\"-{p}\")\n",
        "else:\n",
        "  print(\"\\nNenhuma palavra foi encontrada\")\n",
        "\n"
      ],
      "metadata": {
        "id": "NSPk9c15yz0_",
        "colab": {
          "base_uri": "https://localhost:8080/"
        },
        "outputId": "0284243e-4946-482c-b796-0bab0bf86de2"
      },
      "execution_count": 24,
      "outputs": [
        {
          "output_type": "stream",
          "name": "stdout",
          "text": [
            "Digite o texto para análise:Hoje senti muita raiva ao ver aquela situação, fiquei muito desapontado e triste!\n",
            "\n",
            "Palavras negativas encontradas: \n",
            "-raiva\n",
            "-desapontado\n",
            "-triste\n"
          ]
        }
      ]
    }
  ]
}