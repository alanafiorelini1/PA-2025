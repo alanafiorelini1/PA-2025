{
  "cells": [
    {
      "cell_type": "markdown",
      "metadata": {
        "id": "view-in-github",
        "colab_type": "text"
      },
      "source": [
        "<a href=\"https://colab.research.google.com/github/alanafiorelini1/PA-2025/blob/main/C%C3%B3pia_de_exercicios_loops_strings_dicionarios_05_09.ipynb\" target=\"_parent\"><img src=\"https://colab.research.google.com/assets/colab-badge.svg\" alt=\"Open In Colab\"/></a>"
      ]
    },
    {
      "cell_type": "markdown",
      "id": "50e41763",
      "metadata": {
        "id": "50e41763"
      },
      "source": [
        "# Lista de Exercícios - Python (Loops, Strings e Dicionários)\n",
        "Este notebook contém 15 exercícios para praticar `for`, `while`, manipulação de **strings** e **dicionários`."
      ]
    },
    {
      "cell_type": "markdown",
      "id": "6c5e8da0",
      "metadata": {
        "id": "6c5e8da0"
      },
      "source": [
        "### 1. **Contagem de vogais**: Peça uma palavra e conte quantas vezes cada vogal aparece (usar `for` ou `while`)."
      ]
    },
    {
      "cell_type": "code",
      "execution_count": 2,
      "id": "15f84469",
      "metadata": {
        "id": "15f84469",
        "colab": {
          "base_uri": "https://localhost:8080/"
        },
        "outputId": "a7e8f586-589f-4fef-ecd4-499ec2409409"
      },
      "outputs": [
        {
          "output_type": "stream",
          "name": "stdout",
          "text": [
            "Digite uma palavra: laranja\n",
            "{'a': 3, 'e': 0, 'i': 0, 'o': 0, 'u': 0}\n"
          ]
        }
      ],
      "source": [
        "palavra = input('Digite uma palavra: ').lower()\n",
        "\n",
        "vogal = 'aeiou'\n",
        "conta = {v:0 for v in vogal}\n",
        "for i in palavra:\n",
        "  if i in vogal:\n",
        "    conta[i]+= 1\n",
        "print(conta)"
      ]
    },
    {
      "cell_type": "markdown",
      "id": "2446d942",
      "metadata": {
        "id": "2446d942"
      },
      "source": [
        "### 2. **Inversão de string**: Solicite uma frase e mostre-a invertida **sem usar slicing** (`[::-1]` não vale). Use `while`."
      ]
    },
    {
      "cell_type": "code",
      "execution_count": 7,
      "id": "4bd947d4",
      "metadata": {
        "id": "4bd947d4",
        "colab": {
          "base_uri": "https://localhost:8080/"
        },
        "outputId": "01123f43-9fc8-45ee-eeb1-b37d93082fcf"
      },
      "outputs": [
        {
          "output_type": "stream",
          "name": "stdout",
          "text": [
            "Digite uma frase:Eu gosto de comer pizza de pepperoni\n",
            "A frase ao contrário fica: inoreppep ed azzip remoc ed otsog uE\n"
          ]
        }
      ],
      "source": [
        "frase = input(\"Digite uma frase:\")\n",
        "contrario = \"\"\n",
        "i = len(frase) - 1\n",
        "while i>= 0:\n",
        "  contrario += frase[i]\n",
        "  i -= 1\n",
        "print(\"A frase ao contrário fica:\", contrario)"
      ]
    },
    {
      "cell_type": "markdown",
      "id": "096a5b5d",
      "metadata": {
        "id": "096a5b5d"
      },
      "source": [
        "### 3. **Frequência de caracteres**: Dada uma string, crie um dicionário que mostre quantas vezes cada caractere aparece."
      ]
    },
    {
      "cell_type": "code",
      "execution_count": 17,
      "id": "bd28dd49",
      "metadata": {
        "id": "bd28dd49",
        "colab": {
          "base_uri": "https://localhost:8080/"
        },
        "outputId": "9b920424-eb99-41f9-b6d6-b8cc4c7d0604"
      },
      "outputs": [
        {
          "output_type": "stream",
          "name": "stdout",
          "text": [
            "Digite uma frase:eu gosto de pizza\n",
            "{'e': 2, 'u': 1, ' ': 3, 'g': 1, 'o': 2, 's': 1, 't': 1, 'd': 1, 'p': 1, 'i': 1, 'z': 2, 'a': 1}\n"
          ]
        }
      ],
      "source": [
        "frase = input(\"Digite uma frase:\")\n",
        "vezes = {}\n",
        "for i in frase:\n",
        "  vezes[i] = vezes.get(i, 0) + 1\n",
        "print(vezes)"
      ]
    },
    {
      "cell_type": "markdown",
      "id": "d046cc57",
      "metadata": {
        "id": "d046cc57"
      },
      "source": [
        "### 4. **Palavras únicas**: Peça uma frase e mostre as palavras que aparecem **apenas uma vez**."
      ]
    },
    {
      "cell_type": "code",
      "execution_count": 21,
      "id": "092bef79",
      "metadata": {
        "id": "092bef79",
        "colab": {
          "base_uri": "https://localhost:8080/"
        },
        "outputId": "32bcc99b-0fd7-4eeb-cc4c-6236c17610e6"
      },
      "outputs": [
        {
          "output_type": "stream",
          "name": "stdout",
          "text": [
            "Digite uma frase: meu cachorro brigou com outro cachorro\n",
            "meu\n",
            "brigou\n",
            "com\n",
            "outro\n"
          ]
        }
      ],
      "source": [
        "texto = input('Digite uma frase: ').split()\n",
        "for palavra in texto:\n",
        "  if texto.count(palavra) == 1:\n",
        "    print(palavra)"
      ]
    },
    {
      "cell_type": "markdown",
      "id": "3ea99323",
      "metadata": {
        "id": "3ea99323"
      },
      "source": [
        "### 5. **Substituição manual**: Peça uma string e duas letras: substitua **manualmente** todas as ocorrências da primeira letra pela segunda, usando laço."
      ]
    },
    {
      "cell_type": "code",
      "execution_count": 23,
      "id": "4d1406be",
      "metadata": {
        "id": "4d1406be",
        "colab": {
          "base_uri": "https://localhost:8080/"
        },
        "outputId": "898503b1-b1bc-451c-a541-5b555abf670e"
      },
      "outputs": [
        {
          "output_type": "stream",
          "name": "stdout",
          "text": [
            "Digite uma palavra: Morocujá\n",
            "Letra a substituir: o\n",
            "Letra nova: a\n",
            "Maracujá\n"
          ]
        }
      ],
      "source": [
        "palavra = input(\"Digite uma palavra: \")\n",
        "a = input(\"Letra a substituir: \")\n",
        "b = input(\"Letra nova: \")\n",
        "resultado = \"\"\n",
        "for i in palavra:\n",
        "  if i == a:\n",
        "    resultado += b\n",
        "  else:\n",
        "    resultado += i\n",
        "print(resultado)"
      ]
    },
    {
      "cell_type": "markdown",
      "id": "870e9e64",
      "metadata": {
        "id": "870e9e64"
      },
      "source": [
        "### 6. **Palíndromo**: Verifique se uma palavra é um **palíndromo** sem usar funções prontas de reversão."
      ]
    },
    {
      "cell_type": "code",
      "execution_count": 25,
      "id": "87824151",
      "metadata": {
        "id": "87824151",
        "colab": {
          "base_uri": "https://localhost:8080/"
        },
        "outputId": "eab4781e-ec01-4c64-d125-59ecdcb6771a"
      },
      "outputs": [
        {
          "output_type": "stream",
          "name": "stdout",
          "text": [
            "Digite uma palavra: osso\n",
            "É palíndroma.\n"
          ]
        }
      ],
      "source": [
        "palavra = input('Digite uma palavra: ')\n",
        "inverso = \"\"\n",
        "\n",
        "for letra in palavra:\n",
        "  inverso = letra + inverso\n",
        "if inverso == palavra:\n",
        "  print('É palíndroma.')\n",
        "\n",
        "else:\n",
        "  print('Não é palíndroma.')"
      ]
    },
    {
      "cell_type": "markdown",
      "id": "ce1b0e1f",
      "metadata": {
        "id": "ce1b0e1f"
      },
      "source": [
        "### 7. **Enigma da senha**: Peça uma string e crie uma nova palavra pegando apenas as letras nas **posições ímpares**."
      ]
    },
    {
      "cell_type": "code",
      "execution_count": 38,
      "id": "9fc744d2",
      "metadata": {
        "id": "9fc744d2",
        "colab": {
          "base_uri": "https://localhost:8080/"
        },
        "outputId": "2fb9aceb-43c8-413d-fbe0-bfe5c414c18e"
      },
      "outputs": [
        {
          "output_type": "stream",
          "name": "stdout",
          "text": [
            "Digite uma palavra: ornitorrinco\n",
            "Senha:  riorno\n"
          ]
        }
      ],
      "source": [
        "string = input('Digite uma palavra: ')\n",
        "senha = \"\"\n",
        "\n",
        "for i in range(len(string)):\n",
        "  if i % 2 != 0:\n",
        "    senha += string[i]\n",
        "print('Senha: ',senha )"
      ]
    },
    {
      "cell_type": "markdown",
      "id": "42fe1350",
      "metadata": {
        "id": "42fe1350"
      },
      "source": [
        "### 8. **Expansão de abreviações**: Dado um dicionário de abreviações, substitua manualmente cada ocorrência em uma frase.\n",
        "\n",
        "(Ex: (vc: você, blz: beleza ..."
      ]
    },
    {
      "cell_type": "code",
      "execution_count": 39,
      "id": "e63acd2a",
      "metadata": {
        "id": "e63acd2a",
        "colab": {
          "base_uri": "https://localhost:8080/"
        },
        "outputId": "d7abb44d-c44e-4fb4-ae2a-d88e4a056d9e"
      },
      "outputs": [
        {
          "output_type": "stream",
          "name": "stdout",
          "text": [
            "Digite uma frase e substitua as abreviações: oi td bem com vc tbm\n",
            "['oi', 'tudo', 'bem', 'com', 'você', 'também']\n"
          ]
        }
      ],
      "source": [
        "abreviacoes = {\"vc\":\"você\", \"td\":\"tudo\", \"tbm\":\"também\"}\n",
        "\n",
        "frase = input('Digite uma frase e substitua as abreviações: ').split()\n",
        "sem = []\n",
        "\n",
        "for palavra in frase:\n",
        "  sem.append(abreviacoes.get(palavra,palavra))\n",
        "print(sem)"
      ]
    },
    {
      "cell_type": "markdown",
      "id": "3cf96a02",
      "metadata": {
        "id": "3cf96a02"
      },
      "source": [
        "### 9. **Criptografia simples**: Implemente uma cifra de substituição onde cada letra é trocada pela **próxima no alfabeto** (z → a)."
      ]
    },
    {
      "cell_type": "code",
      "execution_count": 49,
      "id": "c8a0d724",
      "metadata": {
        "id": "c8a0d724",
        "colab": {
          "base_uri": "https://localhost:8080/"
        },
        "outputId": "26362bda-e34c-43c0-e8f0-d332ff809933"
      },
      "outputs": [
        {
          "output_type": "stream",
          "name": "stdout",
          "text": [
            "Digite uma palavra: maracuja\n",
            " nbsbdwkb\n"
          ]
        }
      ],
      "source": [
        "text = str(input('Digite uma palavra: '))\n",
        "alfabeto = 'abcdefghijklmnopqrstuvwxyz'\n",
        "cifra= \"bcdefghijklmnopqrsuvwxyza\"\n",
        "frase = \" \"\n",
        "\n",
        "for letras in text:\n",
        "  if letras in text:\n",
        "    frase += cifra[alfabeto.index(letras)]\n",
        "\n",
        "  else:\n",
        "    frase += letras\n",
        "\n",
        "print(frase)"
      ]
    },
    {
      "cell_type": "markdown",
      "id": "4897443b",
      "metadata": {
        "id": "4897443b"
      },
      "source": [
        "### 10. **Anagrama**: Verifique se duas palavras são **anagramas**, usando dicionário para contar ocorrências."
      ]
    },
    {
      "cell_type": "code",
      "execution_count": 50,
      "id": "4c53848e",
      "metadata": {
        "id": "4c53848e",
        "colab": {
          "base_uri": "https://localhost:8080/"
        },
        "outputId": "a6517c1d-cc52-466e-a282-364fa1ca8017"
      },
      "outputs": [
        {
          "output_type": "stream",
          "name": "stdout",
          "text": [
            "Digite a primeira frase: eu gosto de pizza\n",
            "Digite a segunda frase:eu gosto de hamburguer\n",
            "Não é um anagrama.\n",
            "{'e': 2, 'u': 1, ' ': 3, 'g': 1, 'o': 2, 's': 1, 't': 1, 'd': 1, 'p': 1, 'i': 1, 'z': 2, 'a': 1}\n",
            "{'e': 3, 'u': 3, ' ': 3, 'g': 2, 'o': 2, 's': 1, 't': 1, 'd': 1, 'h': 1, 'a': 1, 'm': 1, 'b': 1, 'r': 2}\n"
          ]
        }
      ],
      "source": [
        "frase  = str(input(\"Digite a primeira frase: \"))\n",
        "frase2 = str(input(\"Digite a segunda frase:\"))\n",
        "conta = {}\n",
        "conta2 = {}\n",
        "for i in frase:\n",
        "  if i in conta:\n",
        "    conta[i] += 1\n",
        "  else:\n",
        "    conta[i] = 1\n",
        "for i in frase2:\n",
        "  if i in conta2:\n",
        "    conta2[i] += 1\n",
        "  else:\n",
        "    conta2[i] = 1\n",
        "if conta == conta2:\n",
        "  print(\"É um anagrama.\")\n",
        "  print(conta)\n",
        "  print(conta2)\n",
        "else:\n",
        "  print(\"Não é um anagrama.\")\n",
        "  print(conta)\n",
        "  print(conta2)"
      ]
    }
  ],
  "metadata": {
    "colab": {
      "provenance": [],
      "include_colab_link": true
    },
    "language_info": {
      "name": "python"
    },
    "kernelspec": {
      "name": "python3",
      "display_name": "Python 3"
    }
  },
  "nbformat": 4,
  "nbformat_minor": 5
}